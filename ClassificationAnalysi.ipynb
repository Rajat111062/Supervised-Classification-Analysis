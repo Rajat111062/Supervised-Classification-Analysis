{
 "cells": [
  {
   "cell_type": "markdown",
   "metadata": {},
   "source": [
    "# Task - 3\n",
    "\n",
    "\n",
    "\n",
    "## **Task has been mentioned at the end of this notebook**  "
   ]
  },
  {
   "cell_type": "markdown",
   "metadata": {},
   "source": [
    "## 1. Basic Pandas Operations"
   ]
  },
  {
   "cell_type": "code",
   "execution_count": 1,
   "metadata": {},
   "outputs": [],
   "source": [
    "# Import all the required Libraries\n",
    "import pandas as pd\n",
    "import numpy as np\n",
    "import seaborn as sns\n",
    "import matplotlib.pyplot as plt"
   ]
  },
  {
   "cell_type": "code",
   "execution_count": 2,
   "metadata": {
    "scrolled": true
   },
   "outputs": [
    {
     "data": {
      "text/html": [
       "<div>\n",
       "<style scoped>\n",
       "    .dataframe tbody tr th:only-of-type {\n",
       "        vertical-align: middle;\n",
       "    }\n",
       "\n",
       "    .dataframe tbody tr th {\n",
       "        vertical-align: top;\n",
       "    }\n",
       "\n",
       "    .dataframe thead th {\n",
       "        text-align: right;\n",
       "    }\n",
       "</style>\n",
       "<table border=\"1\" class=\"dataframe\">\n",
       "  <thead>\n",
       "    <tr style=\"text-align: right;\">\n",
       "      <th></th>\n",
       "      <th>Unnamed: 0</th>\n",
       "      <th>ID</th>\n",
       "      <th>City_Code</th>\n",
       "      <th>Region_Code</th>\n",
       "      <th>Accomodation_Type</th>\n",
       "      <th>Reco_Insurance_Type</th>\n",
       "      <th>Upper_Age</th>\n",
       "      <th>Lower_Age</th>\n",
       "      <th>Is_Spouse</th>\n",
       "      <th>Health Indicator</th>\n",
       "      <th>Holding_Policy_Duration</th>\n",
       "      <th>Holding_Policy_Type</th>\n",
       "      <th>Reco_Policy_Cat</th>\n",
       "      <th>Reco_Policy_Premium</th>\n",
       "      <th>Response</th>\n",
       "    </tr>\n",
       "  </thead>\n",
       "  <tbody>\n",
       "    <tr>\n",
       "      <th>0</th>\n",
       "      <td>27385</td>\n",
       "      <td>27386</td>\n",
       "      <td>C3</td>\n",
       "      <td>64</td>\n",
       "      <td>Owned</td>\n",
       "      <td>Individual</td>\n",
       "      <td>36</td>\n",
       "      <td>36</td>\n",
       "      <td>No</td>\n",
       "      <td>X1</td>\n",
       "      <td>14+</td>\n",
       "      <td>2.0</td>\n",
       "      <td>16</td>\n",
       "      <td>13320.0</td>\n",
       "      <td>0</td>\n",
       "    </tr>\n",
       "    <tr>\n",
       "      <th>1</th>\n",
       "      <td>33499</td>\n",
       "      <td>33500</td>\n",
       "      <td>C3</td>\n",
       "      <td>2955</td>\n",
       "      <td>Owned</td>\n",
       "      <td>Individual</td>\n",
       "      <td>66</td>\n",
       "      <td>66</td>\n",
       "      <td>No</td>\n",
       "      <td>X6</td>\n",
       "      <td>10</td>\n",
       "      <td>1.0</td>\n",
       "      <td>19</td>\n",
       "      <td>16152.0</td>\n",
       "      <td>0</td>\n",
       "    </tr>\n",
       "    <tr>\n",
       "      <th>2</th>\n",
       "      <td>7997</td>\n",
       "      <td>7998</td>\n",
       "      <td>C1</td>\n",
       "      <td>1542</td>\n",
       "      <td>Rented</td>\n",
       "      <td>Individual</td>\n",
       "      <td>24</td>\n",
       "      <td>24</td>\n",
       "      <td>No</td>\n",
       "      <td>NaN</td>\n",
       "      <td>3</td>\n",
       "      <td>1.0</td>\n",
       "      <td>16</td>\n",
       "      <td>7310.0</td>\n",
       "      <td>0</td>\n",
       "    </tr>\n",
       "    <tr>\n",
       "      <th>3</th>\n",
       "      <td>33032</td>\n",
       "      <td>33033</td>\n",
       "      <td>C26</td>\n",
       "      <td>772</td>\n",
       "      <td>Rented</td>\n",
       "      <td>Individual</td>\n",
       "      <td>75</td>\n",
       "      <td>75</td>\n",
       "      <td>No</td>\n",
       "      <td>X1</td>\n",
       "      <td>1</td>\n",
       "      <td>3.0</td>\n",
       "      <td>16</td>\n",
       "      <td>15792.0</td>\n",
       "      <td>0</td>\n",
       "    </tr>\n",
       "    <tr>\n",
       "      <th>4</th>\n",
       "      <td>30516</td>\n",
       "      <td>30517</td>\n",
       "      <td>C2</td>\n",
       "      <td>1510</td>\n",
       "      <td>Owned</td>\n",
       "      <td>Joint</td>\n",
       "      <td>59</td>\n",
       "      <td>58</td>\n",
       "      <td>Yes</td>\n",
       "      <td>X1</td>\n",
       "      <td>14+</td>\n",
       "      <td>4.0</td>\n",
       "      <td>17</td>\n",
       "      <td>23673.0</td>\n",
       "      <td>0</td>\n",
       "    </tr>\n",
       "  </tbody>\n",
       "</table>\n",
       "</div>"
      ],
      "text/plain": [
       "   Unnamed: 0     ID City_Code  Region_Code Accomodation_Type  \\\n",
       "0       27385  27386        C3           64             Owned   \n",
       "1       33499  33500        C3         2955             Owned   \n",
       "2        7997   7998        C1         1542            Rented   \n",
       "3       33032  33033       C26          772            Rented   \n",
       "4       30516  30517        C2         1510             Owned   \n",
       "\n",
       "  Reco_Insurance_Type  Upper_Age  Lower_Age Is_Spouse Health Indicator  \\\n",
       "0          Individual         36         36        No               X1   \n",
       "1          Individual         66         66        No               X6   \n",
       "2          Individual         24         24        No              NaN   \n",
       "3          Individual         75         75        No               X1   \n",
       "4               Joint         59         58       Yes               X1   \n",
       "\n",
       "  Holding_Policy_Duration  Holding_Policy_Type  Reco_Policy_Cat  \\\n",
       "0                     14+                  2.0               16   \n",
       "1                      10                  1.0               19   \n",
       "2                       3                  1.0               16   \n",
       "3                       1                  3.0               16   \n",
       "4                     14+                  4.0               17   \n",
       "\n",
       "   Reco_Policy_Premium  Response  \n",
       "0              13320.0         0  \n",
       "1              16152.0         0  \n",
       "2               7310.0         0  \n",
       "3              15792.0         0  \n",
       "4              23673.0         0  "
      ]
     },
     "execution_count": 2,
     "metadata": {},
     "output_type": "execute_result"
    }
   ],
   "source": [
    "# Read the dataset and display the head. You will get the output as mentioned below\n",
    "dataset= pd.read_csv(r'C:\\Users\\RAJAT SAHU\\Data_Science\\Project\\BasicPandasCLeanning\\Task - 1 (Basic Pandas and Data Cleaning)\\train.csv')\n",
    "dataset.head()"
   ]
  },
  {
   "cell_type": "code",
   "execution_count": 3,
   "metadata": {},
   "outputs": [
    {
     "data": {
      "text/plain": [
       "(10000, 15)"
      ]
     },
     "execution_count": 3,
     "metadata": {},
     "output_type": "execute_result"
    }
   ],
   "source": [
    "# Check the shape of the dataframe\n",
    "dataset.shape"
   ]
  },
  {
   "cell_type": "code",
   "execution_count": 4,
   "metadata": {},
   "outputs": [
    {
     "name": "stdout",
     "output_type": "stream",
     "text": [
      "<class 'pandas.core.frame.DataFrame'>\n",
      "RangeIndex: 10000 entries, 0 to 9999\n",
      "Data columns (total 15 columns):\n",
      " #   Column                   Non-Null Count  Dtype  \n",
      "---  ------                   --------------  -----  \n",
      " 0   Unnamed: 0               10000 non-null  int64  \n",
      " 1   ID                       10000 non-null  int64  \n",
      " 2   City_Code                10000 non-null  object \n",
      " 3   Region_Code              10000 non-null  int64  \n",
      " 4   Accomodation_Type        10000 non-null  object \n",
      " 5   Reco_Insurance_Type      10000 non-null  object \n",
      " 6   Upper_Age                10000 non-null  int64  \n",
      " 7   Lower_Age                10000 non-null  int64  \n",
      " 8   Is_Spouse                10000 non-null  object \n",
      " 9   Health Indicator         7671 non-null   object \n",
      " 10  Holding_Policy_Duration  5946 non-null   object \n",
      " 11  Holding_Policy_Type      5946 non-null   float64\n",
      " 12  Reco_Policy_Cat          10000 non-null  int64  \n",
      " 13  Reco_Policy_Premium      10000 non-null  float64\n",
      " 14  Response                 10000 non-null  int64  \n",
      "dtypes: float64(2), int64(7), object(6)\n",
      "memory usage: 1.1+ MB\n"
     ]
    }
   ],
   "source": [
    "# On the dataframe apply info() function and observe the Dtypes and Missing Values\n",
    "dataset.info()"
   ]
  },
  {
   "cell_type": "markdown",
   "metadata": {},
   "source": [
    "## 2. Cleaning the Data"
   ]
  },
  {
   "cell_type": "code",
   "execution_count": 5,
   "metadata": {},
   "outputs": [
    {
     "name": "stdout",
     "output_type": "stream",
     "text": [
      "14+    898\n",
      "1      867\n",
      "2      790\n",
      "3      696\n",
      "4      530\n",
      "5      461\n",
      "6      374\n",
      "7      320\n",
      "8      254\n",
      "9      205\n",
      "10     166\n",
      "12     104\n",
      "13     103\n",
      "14      89\n",
      "11      89\n",
      "Name: Holding_Policy_Duration, dtype: int64\n"
     ]
    }
   ],
   "source": [
    "# Impute the Null values in Health Indicator, Holding_Policy_Duration and Holding_Policy_Type\n",
    "dataset.isnull().sum()\n",
    "#Health Indicator\n",
    "dataset['Health Indicator'].value_counts()    #categorical data means we have to replce Null values to the Mode values or frq\n",
    "dataset['Health Indicator'].fillna('X1',inplace=True)\n",
    "\n",
    "#Holding_Policy_Duration\n",
    "print(dataset['Holding_Policy_Duration'].value_counts()) #categorical data means we have to replce Null values to the Mode values or frq\n",
    "dataset['Holding_Policy_Duration'].replace('14+','15',inplace=True)\n",
    "dataset['Holding_Policy_Duration'].fillna('15',inplace=True)\n",
    "\n",
    "#Holding_Policy_Type\n",
    "dataset['Holding_Policy_Type'].value_counts()\n",
    "dataset['Holding_Policy_Type'].fillna(3.0,inplace=True)"
   ]
  },
  {
   "cell_type": "code",
   "execution_count": 6,
   "metadata": {},
   "outputs": [
    {
     "data": {
      "text/plain": [
       "Unnamed: 0                 0\n",
       "ID                         0\n",
       "City_Code                  0\n",
       "Region_Code                0\n",
       "Accomodation_Type          0\n",
       "Reco_Insurance_Type        0\n",
       "Upper_Age                  0\n",
       "Lower_Age                  0\n",
       "Is_Spouse                  0\n",
       "Health Indicator           0\n",
       "Holding_Policy_Duration    0\n",
       "Holding_Policy_Type        0\n",
       "Reco_Policy_Cat            0\n",
       "Reco_Policy_Premium        0\n",
       "Response                   0\n",
       "dtype: int64"
      ]
     },
     "execution_count": 6,
     "metadata": {},
     "output_type": "execute_result"
    }
   ],
   "source": [
    "dataset.isnull().sum()"
   ]
  },
  {
   "cell_type": "code",
   "execution_count": 7,
   "metadata": {},
   "outputs": [
    {
     "data": {
      "text/html": [
       "<div>\n",
       "<style scoped>\n",
       "    .dataframe tbody tr th:only-of-type {\n",
       "        vertical-align: middle;\n",
       "    }\n",
       "\n",
       "    .dataframe tbody tr th {\n",
       "        vertical-align: top;\n",
       "    }\n",
       "\n",
       "    .dataframe thead th {\n",
       "        text-align: right;\n",
       "    }\n",
       "</style>\n",
       "<table border=\"1\" class=\"dataframe\">\n",
       "  <thead>\n",
       "    <tr style=\"text-align: right;\">\n",
       "      <th></th>\n",
       "      <th>City_Code</th>\n",
       "      <th>Accomodation_Type</th>\n",
       "      <th>Reco_Insurance_Type</th>\n",
       "      <th>Is_Spouse</th>\n",
       "      <th>Health Indicator</th>\n",
       "      <th>Holding_Policy_Duration</th>\n",
       "    </tr>\n",
       "  </thead>\n",
       "  <tbody>\n",
       "    <tr>\n",
       "      <th>0</th>\n",
       "      <td>C3</td>\n",
       "      <td>Owned</td>\n",
       "      <td>Individual</td>\n",
       "      <td>No</td>\n",
       "      <td>X1</td>\n",
       "      <td>15</td>\n",
       "    </tr>\n",
       "    <tr>\n",
       "      <th>1</th>\n",
       "      <td>C3</td>\n",
       "      <td>Owned</td>\n",
       "      <td>Individual</td>\n",
       "      <td>No</td>\n",
       "      <td>X6</td>\n",
       "      <td>10</td>\n",
       "    </tr>\n",
       "    <tr>\n",
       "      <th>2</th>\n",
       "      <td>C1</td>\n",
       "      <td>Rented</td>\n",
       "      <td>Individual</td>\n",
       "      <td>No</td>\n",
       "      <td>X1</td>\n",
       "      <td>3</td>\n",
       "    </tr>\n",
       "    <tr>\n",
       "      <th>3</th>\n",
       "      <td>C26</td>\n",
       "      <td>Rented</td>\n",
       "      <td>Individual</td>\n",
       "      <td>No</td>\n",
       "      <td>X1</td>\n",
       "      <td>1</td>\n",
       "    </tr>\n",
       "    <tr>\n",
       "      <th>4</th>\n",
       "      <td>C2</td>\n",
       "      <td>Owned</td>\n",
       "      <td>Joint</td>\n",
       "      <td>Yes</td>\n",
       "      <td>X1</td>\n",
       "      <td>15</td>\n",
       "    </tr>\n",
       "    <tr>\n",
       "      <th>...</th>\n",
       "      <td>...</td>\n",
       "      <td>...</td>\n",
       "      <td>...</td>\n",
       "      <td>...</td>\n",
       "      <td>...</td>\n",
       "      <td>...</td>\n",
       "    </tr>\n",
       "    <tr>\n",
       "      <th>9995</th>\n",
       "      <td>C3</td>\n",
       "      <td>Owned</td>\n",
       "      <td>Joint</td>\n",
       "      <td>Yes</td>\n",
       "      <td>X5</td>\n",
       "      <td>15</td>\n",
       "    </tr>\n",
       "    <tr>\n",
       "      <th>9996</th>\n",
       "      <td>C5</td>\n",
       "      <td>Rented</td>\n",
       "      <td>Individual</td>\n",
       "      <td>No</td>\n",
       "      <td>X1</td>\n",
       "      <td>6</td>\n",
       "    </tr>\n",
       "    <tr>\n",
       "      <th>9997</th>\n",
       "      <td>C1</td>\n",
       "      <td>Owned</td>\n",
       "      <td>Individual</td>\n",
       "      <td>No</td>\n",
       "      <td>X1</td>\n",
       "      <td>8</td>\n",
       "    </tr>\n",
       "    <tr>\n",
       "      <th>9998</th>\n",
       "      <td>C1</td>\n",
       "      <td>Rented</td>\n",
       "      <td>Individual</td>\n",
       "      <td>No</td>\n",
       "      <td>X5</td>\n",
       "      <td>15</td>\n",
       "    </tr>\n",
       "    <tr>\n",
       "      <th>9999</th>\n",
       "      <td>C7</td>\n",
       "      <td>Owned</td>\n",
       "      <td>Joint</td>\n",
       "      <td>Yes</td>\n",
       "      <td>X2</td>\n",
       "      <td>15</td>\n",
       "    </tr>\n",
       "  </tbody>\n",
       "</table>\n",
       "<p>10000 rows × 6 columns</p>\n",
       "</div>"
      ],
      "text/plain": [
       "     City_Code Accomodation_Type Reco_Insurance_Type Is_Spouse  \\\n",
       "0           C3             Owned          Individual        No   \n",
       "1           C3             Owned          Individual        No   \n",
       "2           C1            Rented          Individual        No   \n",
       "3          C26            Rented          Individual        No   \n",
       "4           C2             Owned               Joint       Yes   \n",
       "...        ...               ...                 ...       ...   \n",
       "9995        C3             Owned               Joint       Yes   \n",
       "9996        C5            Rented          Individual        No   \n",
       "9997        C1             Owned          Individual        No   \n",
       "9998        C1            Rented          Individual        No   \n",
       "9999        C7             Owned               Joint       Yes   \n",
       "\n",
       "     Health Indicator Holding_Policy_Duration  \n",
       "0                  X1                      15  \n",
       "1                  X6                      10  \n",
       "2                  X1                       3  \n",
       "3                  X1                       1  \n",
       "4                  X1                      15  \n",
       "...               ...                     ...  \n",
       "9995               X5                      15  \n",
       "9996               X1                       6  \n",
       "9997               X1                       8  \n",
       "9998               X5                      15  \n",
       "9999               X2                      15  \n",
       "\n",
       "[10000 rows x 6 columns]"
      ]
     },
     "execution_count": 7,
     "metadata": {},
     "output_type": "execute_result"
    }
   ],
   "source": [
    "# Observe that ['Accomodation_Type','Reco_Insurance_Type','Is_Spouse'] \n",
    "# above these Object columns have two values - Yes and No\n",
    "dataset.select_dtypes(include=['object'])\n",
    "\n",
    "# conclusion : we have a only one column is in Yer/No formate"
   ]
  },
  {
   "cell_type": "code",
   "execution_count": 8,
   "metadata": {},
   "outputs": [
    {
     "data": {
      "text/plain": [
       "dtype('int64')"
      ]
     },
     "execution_count": 8,
     "metadata": {},
     "output_type": "execute_result"
    }
   ],
   "source": [
    "# Converting all the Yes to 1 and No to 0. \n",
    "\n",
    "\n",
    "\n",
    "# Write a for loop to iterate over the list given above\n",
    "# For each feature use pandas 'apply()' to convert all the 'Yes' to 1 and 'No' to 0\n",
    "\n",
    "# Query\n",
    "dataset['Is_Spouse'] = dataset['Is_Spouse'].apply(lambda x:1 if x=='Yes' else 0)\n",
    "dataset['Is_Spouse'].dtypes"
   ]
  },
  {
   "cell_type": "code",
   "execution_count": 9,
   "metadata": {},
   "outputs": [
    {
     "data": {
      "text/html": [
       "<div>\n",
       "<style scoped>\n",
       "    .dataframe tbody tr th:only-of-type {\n",
       "        vertical-align: middle;\n",
       "    }\n",
       "\n",
       "    .dataframe tbody tr th {\n",
       "        vertical-align: top;\n",
       "    }\n",
       "\n",
       "    .dataframe thead th {\n",
       "        text-align: right;\n",
       "    }\n",
       "</style>\n",
       "<table border=\"1\" class=\"dataframe\">\n",
       "  <thead>\n",
       "    <tr style=\"text-align: right;\">\n",
       "      <th></th>\n",
       "      <th>City_Code</th>\n",
       "      <th>Accomodation_Type</th>\n",
       "      <th>Reco_Insurance_Type</th>\n",
       "      <th>Health Indicator</th>\n",
       "      <th>Holding_Policy_Duration</th>\n",
       "    </tr>\n",
       "  </thead>\n",
       "  <tbody>\n",
       "    <tr>\n",
       "      <th>0</th>\n",
       "      <td>C3</td>\n",
       "      <td>Owned</td>\n",
       "      <td>Individual</td>\n",
       "      <td>X1</td>\n",
       "      <td>15</td>\n",
       "    </tr>\n",
       "    <tr>\n",
       "      <th>1</th>\n",
       "      <td>C3</td>\n",
       "      <td>Owned</td>\n",
       "      <td>Individual</td>\n",
       "      <td>X6</td>\n",
       "      <td>10</td>\n",
       "    </tr>\n",
       "    <tr>\n",
       "      <th>2</th>\n",
       "      <td>C1</td>\n",
       "      <td>Rented</td>\n",
       "      <td>Individual</td>\n",
       "      <td>X1</td>\n",
       "      <td>3</td>\n",
       "    </tr>\n",
       "    <tr>\n",
       "      <th>3</th>\n",
       "      <td>C26</td>\n",
       "      <td>Rented</td>\n",
       "      <td>Individual</td>\n",
       "      <td>X1</td>\n",
       "      <td>1</td>\n",
       "    </tr>\n",
       "    <tr>\n",
       "      <th>4</th>\n",
       "      <td>C2</td>\n",
       "      <td>Owned</td>\n",
       "      <td>Joint</td>\n",
       "      <td>X1</td>\n",
       "      <td>15</td>\n",
       "    </tr>\n",
       "    <tr>\n",
       "      <th>...</th>\n",
       "      <td>...</td>\n",
       "      <td>...</td>\n",
       "      <td>...</td>\n",
       "      <td>...</td>\n",
       "      <td>...</td>\n",
       "    </tr>\n",
       "    <tr>\n",
       "      <th>9995</th>\n",
       "      <td>C3</td>\n",
       "      <td>Owned</td>\n",
       "      <td>Joint</td>\n",
       "      <td>X5</td>\n",
       "      <td>15</td>\n",
       "    </tr>\n",
       "    <tr>\n",
       "      <th>9996</th>\n",
       "      <td>C5</td>\n",
       "      <td>Rented</td>\n",
       "      <td>Individual</td>\n",
       "      <td>X1</td>\n",
       "      <td>6</td>\n",
       "    </tr>\n",
       "    <tr>\n",
       "      <th>9997</th>\n",
       "      <td>C1</td>\n",
       "      <td>Owned</td>\n",
       "      <td>Individual</td>\n",
       "      <td>X1</td>\n",
       "      <td>8</td>\n",
       "    </tr>\n",
       "    <tr>\n",
       "      <th>9998</th>\n",
       "      <td>C1</td>\n",
       "      <td>Rented</td>\n",
       "      <td>Individual</td>\n",
       "      <td>X5</td>\n",
       "      <td>15</td>\n",
       "    </tr>\n",
       "    <tr>\n",
       "      <th>9999</th>\n",
       "      <td>C7</td>\n",
       "      <td>Owned</td>\n",
       "      <td>Joint</td>\n",
       "      <td>X2</td>\n",
       "      <td>15</td>\n",
       "    </tr>\n",
       "  </tbody>\n",
       "</table>\n",
       "<p>10000 rows × 5 columns</p>\n",
       "</div>"
      ],
      "text/plain": [
       "     City_Code Accomodation_Type Reco_Insurance_Type Health Indicator  \\\n",
       "0           C3             Owned          Individual               X1   \n",
       "1           C3             Owned          Individual               X6   \n",
       "2           C1            Rented          Individual               X1   \n",
       "3          C26            Rented          Individual               X1   \n",
       "4           C2             Owned               Joint               X1   \n",
       "...        ...               ...                 ...              ...   \n",
       "9995        C3             Owned               Joint               X5   \n",
       "9996        C5            Rented          Individual               X1   \n",
       "9997        C1             Owned          Individual               X1   \n",
       "9998        C1            Rented          Individual               X5   \n",
       "9999        C7             Owned               Joint               X2   \n",
       "\n",
       "     Holding_Policy_Duration  \n",
       "0                         15  \n",
       "1                         10  \n",
       "2                          3  \n",
       "3                          1  \n",
       "4                         15  \n",
       "...                      ...  \n",
       "9995                      15  \n",
       "9996                       6  \n",
       "9997                       8  \n",
       "9998                      15  \n",
       "9999                      15  \n",
       "\n",
       "[10000 rows x 5 columns]"
      ]
     },
     "execution_count": 9,
     "metadata": {},
     "output_type": "execute_result"
    }
   ],
   "source": [
    "# Now again having a look at all those columns to see if everything went well\n",
    "dataset.select_dtypes(include=['object'])"
   ]
  },
  {
   "cell_type": "code",
   "execution_count": 10,
   "metadata": {},
   "outputs": [
    {
     "name": "stdout",
     "output_type": "stream",
     "text": [
      "<class 'pandas.core.frame.DataFrame'>\n",
      "RangeIndex: 10000 entries, 0 to 9999\n",
      "Data columns (total 15 columns):\n",
      " #   Column                   Non-Null Count  Dtype  \n",
      "---  ------                   --------------  -----  \n",
      " 0   Unnamed: 0               10000 non-null  int64  \n",
      " 1   ID                       10000 non-null  int64  \n",
      " 2   City_Code                10000 non-null  object \n",
      " 3   Region_Code              10000 non-null  int64  \n",
      " 4   Accomodation_Type        10000 non-null  object \n",
      " 5   Reco_Insurance_Type      10000 non-null  object \n",
      " 6   Upper_Age                10000 non-null  int64  \n",
      " 7   Lower_Age                10000 non-null  int64  \n",
      " 8   Is_Spouse                10000 non-null  int64  \n",
      " 9   Health Indicator         10000 non-null  object \n",
      " 10  Holding_Policy_Duration  10000 non-null  object \n",
      " 11  Holding_Policy_Type      10000 non-null  float64\n",
      " 12  Reco_Policy_Cat          10000 non-null  int64  \n",
      " 13  Reco_Policy_Premium      10000 non-null  float64\n",
      " 14  Response                 10000 non-null  int64  \n",
      "dtypes: float64(2), int64(8), object(5)\n",
      "memory usage: 1.1+ MB\n"
     ]
    }
   ],
   "source": [
    "# Observe that all those columns are now converted from Object to Int64\n",
    "\n",
    "dataset.info()"
   ]
  },
  {
   "cell_type": "code",
   "execution_count": 11,
   "metadata": {},
   "outputs": [
    {
     "data": {
      "text/html": [
       "<div>\n",
       "<style scoped>\n",
       "    .dataframe tbody tr th:only-of-type {\n",
       "        vertical-align: middle;\n",
       "    }\n",
       "\n",
       "    .dataframe tbody tr th {\n",
       "        vertical-align: top;\n",
       "    }\n",
       "\n",
       "    .dataframe thead th {\n",
       "        text-align: right;\n",
       "    }\n",
       "</style>\n",
       "<table border=\"1\" class=\"dataframe\">\n",
       "  <thead>\n",
       "    <tr style=\"text-align: right;\">\n",
       "      <th></th>\n",
       "      <th>City_Code</th>\n",
       "      <th>Accomodation_Type</th>\n",
       "      <th>Reco_Insurance_Type</th>\n",
       "      <th>Health Indicator</th>\n",
       "      <th>Holding_Policy_Duration</th>\n",
       "    </tr>\n",
       "  </thead>\n",
       "  <tbody>\n",
       "    <tr>\n",
       "      <th>0</th>\n",
       "      <td>C3</td>\n",
       "      <td>Owned</td>\n",
       "      <td>Individual</td>\n",
       "      <td>X1</td>\n",
       "      <td>15</td>\n",
       "    </tr>\n",
       "    <tr>\n",
       "      <th>1</th>\n",
       "      <td>C3</td>\n",
       "      <td>Owned</td>\n",
       "      <td>Individual</td>\n",
       "      <td>X6</td>\n",
       "      <td>10</td>\n",
       "    </tr>\n",
       "    <tr>\n",
       "      <th>2</th>\n",
       "      <td>C1</td>\n",
       "      <td>Rented</td>\n",
       "      <td>Individual</td>\n",
       "      <td>X1</td>\n",
       "      <td>3</td>\n",
       "    </tr>\n",
       "    <tr>\n",
       "      <th>3</th>\n",
       "      <td>C26</td>\n",
       "      <td>Rented</td>\n",
       "      <td>Individual</td>\n",
       "      <td>X1</td>\n",
       "      <td>1</td>\n",
       "    </tr>\n",
       "    <tr>\n",
       "      <th>4</th>\n",
       "      <td>C2</td>\n",
       "      <td>Owned</td>\n",
       "      <td>Joint</td>\n",
       "      <td>X1</td>\n",
       "      <td>15</td>\n",
       "    </tr>\n",
       "    <tr>\n",
       "      <th>...</th>\n",
       "      <td>...</td>\n",
       "      <td>...</td>\n",
       "      <td>...</td>\n",
       "      <td>...</td>\n",
       "      <td>...</td>\n",
       "    </tr>\n",
       "    <tr>\n",
       "      <th>9995</th>\n",
       "      <td>C3</td>\n",
       "      <td>Owned</td>\n",
       "      <td>Joint</td>\n",
       "      <td>X5</td>\n",
       "      <td>15</td>\n",
       "    </tr>\n",
       "    <tr>\n",
       "      <th>9996</th>\n",
       "      <td>C5</td>\n",
       "      <td>Rented</td>\n",
       "      <td>Individual</td>\n",
       "      <td>X1</td>\n",
       "      <td>6</td>\n",
       "    </tr>\n",
       "    <tr>\n",
       "      <th>9997</th>\n",
       "      <td>C1</td>\n",
       "      <td>Owned</td>\n",
       "      <td>Individual</td>\n",
       "      <td>X1</td>\n",
       "      <td>8</td>\n",
       "    </tr>\n",
       "    <tr>\n",
       "      <th>9998</th>\n",
       "      <td>C1</td>\n",
       "      <td>Rented</td>\n",
       "      <td>Individual</td>\n",
       "      <td>X5</td>\n",
       "      <td>15</td>\n",
       "    </tr>\n",
       "    <tr>\n",
       "      <th>9999</th>\n",
       "      <td>C7</td>\n",
       "      <td>Owned</td>\n",
       "      <td>Joint</td>\n",
       "      <td>X2</td>\n",
       "      <td>15</td>\n",
       "    </tr>\n",
       "  </tbody>\n",
       "</table>\n",
       "<p>10000 rows × 5 columns</p>\n",
       "</div>"
      ],
      "text/plain": [
       "     City_Code Accomodation_Type Reco_Insurance_Type Health Indicator  \\\n",
       "0           C3             Owned          Individual               X1   \n",
       "1           C3             Owned          Individual               X6   \n",
       "2           C1            Rented          Individual               X1   \n",
       "3          C26            Rented          Individual               X1   \n",
       "4           C2             Owned               Joint               X1   \n",
       "...        ...               ...                 ...              ...   \n",
       "9995        C3             Owned               Joint               X5   \n",
       "9996        C5            Rented          Individual               X1   \n",
       "9997        C1             Owned          Individual               X1   \n",
       "9998        C1            Rented          Individual               X5   \n",
       "9999        C7             Owned               Joint               X2   \n",
       "\n",
       "     Holding_Policy_Duration  \n",
       "0                         15  \n",
       "1                         10  \n",
       "2                          3  \n",
       "3                          1  \n",
       "4                         15  \n",
       "...                      ...  \n",
       "9995                      15  \n",
       "9996                       6  \n",
       "9997                       8  \n",
       "9998                      15  \n",
       "9999                      15  \n",
       "\n",
       "[10000 rows x 5 columns]"
      ]
     },
     "execution_count": 11,
     "metadata": {},
     "output_type": "execute_result"
    }
   ],
   "source": [
    "# Checking all the Object Dtypes - Here, these columns have more than 2 categories\n",
    "dataset.select_dtypes(include=['object'])"
   ]
  },
  {
   "cell_type": "code",
   "execution_count": 12,
   "metadata": {},
   "outputs": [
    {
     "data": {
      "text/plain": [
       "Index(['City_Code', 'Accomodation_Type', 'Reco_Insurance_Type',\n",
       "       'Health Indicator', 'Holding_Policy_Duration'],\n",
       "      dtype='object')"
      ]
     },
     "execution_count": 12,
     "metadata": {},
     "output_type": "execute_result"
    }
   ],
   "source": [
    "# You can also do this to separate Object columns\n",
    "dataset.select_dtypes(include=['object']).columns"
   ]
  },
  {
   "cell_type": "code",
   "execution_count": 13,
   "metadata": {},
   "outputs": [
    {
     "data": {
      "text/plain": [
       "0    7541\n",
       "1    2459\n",
       "Name: Response, dtype: int64"
      ]
     },
     "execution_count": 13,
     "metadata": {},
     "output_type": "execute_result"
    }
   ],
   "source": [
    "# Lets just try to see what is happening Response. Check the output.\n",
    "dataset['Response'].value_counts()\n",
    "\n",
    "## Observation : Dataset Responce is ~skewed"
   ]
  },
  {
   "cell_type": "code",
   "execution_count": 14,
   "metadata": {},
   "outputs": [
    {
     "name": "stdout",
     "output_type": "stream",
     "text": [
      "Index(['Unnamed: 0', 'ID', 'City_Code', 'Region_Code', 'Accomodation_Type',\n",
      "       'Reco_Insurance_Type', 'Upper_Age', 'Lower_Age', 'Is_Spouse',\n",
      "       'Health Indicator', 'Holding_Policy_Duration', 'Holding_Policy_Type',\n",
      "       'Reco_Policy_Cat', 'Reco_Policy_Premium', 'Response'],\n",
      "      dtype='object')\n",
      "After Remove Unwanted columns Index(['ID', 'City_Code', 'Region_Code', 'Accomodation_Type',\n",
      "       'Reco_Insurance_Type', 'Upper_Age', 'Lower_Age', 'Is_Spouse',\n",
      "       'Health Indicator', 'Holding_Policy_Duration', 'Holding_Policy_Type',\n",
      "       'Reco_Policy_Cat', 'Reco_Policy_Premium', 'Response'],\n",
      "      dtype='object')\n"
     ]
    }
   ],
   "source": [
    "# Dropping unknown column\n",
    "print(dataset.columns)\n",
    "dataset.drop(['Unnamed: 0'],axis=1,inplace=True)\n",
    "\n",
    "# Write the code here to drop unknown column and check dataframe shape\n",
    "print('After Remove Unwanted columns',dataset.columns)"
   ]
  },
  {
   "cell_type": "code",
   "execution_count": 15,
   "metadata": {},
   "outputs": [
    {
     "name": "stdout",
     "output_type": "stream",
     "text": [
      "<class 'pandas.core.frame.DataFrame'>\n",
      "RangeIndex: 10000 entries, 0 to 9999\n",
      "Data columns (total 14 columns):\n",
      " #   Column                   Non-Null Count  Dtype  \n",
      "---  ------                   --------------  -----  \n",
      " 0   ID                       10000 non-null  int64  \n",
      " 1   City_Code                10000 non-null  object \n",
      " 2   Region_Code              10000 non-null  int64  \n",
      " 3   Accomodation_Type        10000 non-null  object \n",
      " 4   Reco_Insurance_Type      10000 non-null  object \n",
      " 5   Upper_Age                10000 non-null  int64  \n",
      " 6   Lower_Age                10000 non-null  int64  \n",
      " 7   Is_Spouse                10000 non-null  int64  \n",
      " 8   Health Indicator         10000 non-null  object \n",
      " 9   Holding_Policy_Duration  10000 non-null  object \n",
      " 10  Holding_Policy_Type      10000 non-null  float64\n",
      " 11  Reco_Policy_Cat          10000 non-null  int64  \n",
      " 12  Reco_Policy_Premium      10000 non-null  float64\n",
      " 13  Response                 10000 non-null  int64  \n",
      "dtypes: float64(2), int64(7), object(5)\n",
      "memory usage: 1.1+ MB\n"
     ]
    }
   ],
   "source": [
    "# Getting all the Object Dtypes\n",
    "dataset.info()"
   ]
  },
  {
   "cell_type": "code",
   "execution_count": 16,
   "metadata": {},
   "outputs": [
    {
     "name": "stdout",
     "output_type": "stream",
     "text": [
      "Column Name :  City_Code\n",
      "Number of unique values in the Categorical Dataset :  ['C3' 'C1' 'C26' 'C2' 'C17' 'C4' 'C16' 'C9' 'C23' 'C21' 'C6' 'C7' 'C11'\n",
      " 'C22' 'C15' 'C13' 'C8' 'C35' 'C29' 'C33' 'C10' 'C12' 'C19' 'C5' 'C18'\n",
      " 'C14' 'C24' 'C27' 'C20' 'C34' 'C36' 'C25' 'C28' 'C32' 'C30' 'C31']\n",
      "\n",
      "\n",
      "Column Name :  Accomodation_Type\n",
      "Number of unique values in the Categorical Dataset :  ['Owned' 'Rented']\n",
      "\n",
      "\n",
      "Column Name :  Reco_Insurance_Type\n",
      "Number of unique values in the Categorical Dataset :  ['Individual' 'Joint']\n",
      "\n",
      "\n",
      "Column Name :  Health Indicator\n",
      "Number of unique values in the Categorical Dataset :  ['X1' 'X6' 'X4' 'X2' 'X3' 'X5' 'X8' 'X7' 'X9']\n",
      "\n",
      "\n",
      "Column Name :  Holding_Policy_Duration\n",
      "Number of unique values in the Categorical Dataset :  ['15' '10' '3' '1' '7' '13' '9' '8' '14' '2' '4' '5' '11' '6' '12']\n",
      "\n",
      "\n"
     ]
    }
   ],
   "source": [
    "cat_col = dataset.select_dtypes(include=['object']).columns\n",
    "\n",
    "for i in cat_col:\n",
    "    print('Column Name : ',str(i))\n",
    "    print('Number of unique values in the Categorical Dataset : ',dataset[str(i)].unique())\n",
    "    print('\\n')"
   ]
  },
  {
   "cell_type": "code",
   "execution_count": 17,
   "metadata": {},
   "outputs": [],
   "source": [
    "#  create Lables the categorical features\n",
    "from sklearn.preprocessing import LabelEncoder\n",
    "lable_encoder = LabelEncoder()\n",
    "for i in cat_col:\n",
    "    dataset[str(i)] = lable_encoder.fit_transform(dataset[str(i)])"
   ]
  },
  {
   "cell_type": "code",
   "execution_count": 18,
   "metadata": {},
   "outputs": [
    {
     "data": {
      "text/plain": [
       "City_Code              int32\n",
       "Accomodation_Type      int32\n",
       "Reco_Insurance_Type    int32\n",
       "Health Indicator       int32\n",
       "dtype: object"
      ]
     },
     "execution_count": 18,
     "metadata": {},
     "output_type": "execute_result"
    }
   ],
   "source": [
    "cat_col = ['City_Code','Accomodation_Type','Reco_Insurance_Type','Health Indicator']\n",
    "dataset[cat_col].dtypes"
   ]
  },
  {
   "cell_type": "code",
   "execution_count": 19,
   "metadata": {},
   "outputs": [
    {
     "data": {
      "text/plain": [
       "array([22, 22,  0, ...,  0,  0, 33])"
      ]
     },
     "execution_count": 19,
     "metadata": {},
     "output_type": "execute_result"
    }
   ],
   "source": [
    "dataset['City_Code'].to_numpy()"
   ]
  },
  {
   "cell_type": "code",
   "execution_count": 20,
   "metadata": {},
   "outputs": [
    {
     "data": {
      "text/html": [
       "<div>\n",
       "<style scoped>\n",
       "    .dataframe tbody tr th:only-of-type {\n",
       "        vertical-align: middle;\n",
       "    }\n",
       "\n",
       "    .dataframe tbody tr th {\n",
       "        vertical-align: top;\n",
       "    }\n",
       "\n",
       "    .dataframe thead th {\n",
       "        text-align: right;\n",
       "    }\n",
       "</style>\n",
       "<table border=\"1\" class=\"dataframe\">\n",
       "  <thead>\n",
       "    <tr style=\"text-align: right;\">\n",
       "      <th></th>\n",
       "      <th>City_Code</th>\n",
       "      <th>Accomodation_Type</th>\n",
       "      <th>Reco_Insurance_Type</th>\n",
       "      <th>Health Indicator</th>\n",
       "    </tr>\n",
       "  </thead>\n",
       "  <tbody>\n",
       "    <tr>\n",
       "      <th>0</th>\n",
       "      <td>22</td>\n",
       "      <td>0</td>\n",
       "      <td>0</td>\n",
       "      <td>0</td>\n",
       "    </tr>\n",
       "    <tr>\n",
       "      <th>1</th>\n",
       "      <td>22</td>\n",
       "      <td>0</td>\n",
       "      <td>0</td>\n",
       "      <td>5</td>\n",
       "    </tr>\n",
       "    <tr>\n",
       "      <th>2</th>\n",
       "      <td>0</td>\n",
       "      <td>1</td>\n",
       "      <td>0</td>\n",
       "      <td>0</td>\n",
       "    </tr>\n",
       "    <tr>\n",
       "      <th>3</th>\n",
       "      <td>18</td>\n",
       "      <td>1</td>\n",
       "      <td>0</td>\n",
       "      <td>0</td>\n",
       "    </tr>\n",
       "    <tr>\n",
       "      <th>4</th>\n",
       "      <td>11</td>\n",
       "      <td>0</td>\n",
       "      <td>1</td>\n",
       "      <td>0</td>\n",
       "    </tr>\n",
       "    <tr>\n",
       "      <th>...</th>\n",
       "      <td>...</td>\n",
       "      <td>...</td>\n",
       "      <td>...</td>\n",
       "      <td>...</td>\n",
       "    </tr>\n",
       "    <tr>\n",
       "      <th>9995</th>\n",
       "      <td>22</td>\n",
       "      <td>0</td>\n",
       "      <td>1</td>\n",
       "      <td>4</td>\n",
       "    </tr>\n",
       "    <tr>\n",
       "      <th>9996</th>\n",
       "      <td>31</td>\n",
       "      <td>1</td>\n",
       "      <td>0</td>\n",
       "      <td>0</td>\n",
       "    </tr>\n",
       "    <tr>\n",
       "      <th>9997</th>\n",
       "      <td>0</td>\n",
       "      <td>0</td>\n",
       "      <td>0</td>\n",
       "      <td>0</td>\n",
       "    </tr>\n",
       "    <tr>\n",
       "      <th>9998</th>\n",
       "      <td>0</td>\n",
       "      <td>1</td>\n",
       "      <td>0</td>\n",
       "      <td>4</td>\n",
       "    </tr>\n",
       "    <tr>\n",
       "      <th>9999</th>\n",
       "      <td>33</td>\n",
       "      <td>0</td>\n",
       "      <td>1</td>\n",
       "      <td>1</td>\n",
       "    </tr>\n",
       "  </tbody>\n",
       "</table>\n",
       "<p>10000 rows × 4 columns</p>\n",
       "</div>"
      ],
      "text/plain": [
       "      City_Code  Accomodation_Type  Reco_Insurance_Type  Health Indicator\n",
       "0            22                  0                    0                 0\n",
       "1            22                  0                    0                 5\n",
       "2             0                  1                    0                 0\n",
       "3            18                  1                    0                 0\n",
       "4            11                  0                    1                 0\n",
       "...         ...                ...                  ...               ...\n",
       "9995         22                  0                    1                 4\n",
       "9996         31                  1                    0                 0\n",
       "9997          0                  0                    0                 0\n",
       "9998          0                  1                    0                 4\n",
       "9999         33                  0                    1                 1\n",
       "\n",
       "[10000 rows x 4 columns]"
      ]
     },
     "execution_count": 20,
     "metadata": {},
     "output_type": "execute_result"
    }
   ],
   "source": [
    "dataset[cat_col]"
   ]
  },
  {
   "cell_type": "code",
   "execution_count": 21,
   "metadata": {},
   "outputs": [
    {
     "name": "stdout",
     "output_type": "stream",
     "text": [
      "Numpy Array Formate columns \"City_Code\" :  [22 22  0 ...  0  0 33]\n",
      "Numpy Array Formate columns \"Accomodation_Type\" :  [0 0 1 ... 0 1 0]\n",
      "Numpy Array Formate columns \"Reco_Insurance_Type\" :  [0 0 0 ... 0 0 1]\n",
      "Numpy Array Formate columns \"Health Indicator\" :  [0 5 0 ... 0 4 1]\n"
     ]
    },
    {
     "data": {
      "text/plain": [
       "Index(['ID', 'City_Code', 'Region_Code', 'Upper_Age', 'Lower_Age', 'Is_Spouse',\n",
       "       'Holding_Policy_Duration', 'Holding_Policy_Type', 'Reco_Policy_Cat',\n",
       "       'Reco_Policy_Premium', 'Response', 'Accomodation_Type_0',\n",
       "       'Accomodation_Type_1', 'Reco_Insurance_Type_0', 'Reco_Insurance_Type_1',\n",
       "       'Health Indicator_0', 'Health Indicator_1', 'Health Indicator_2',\n",
       "       'Health Indicator_3', 'Health Indicator_4', 'Health Indicator_5',\n",
       "       'Health Indicator_6', 'Health Indicator_7', 'Health Indicator_8'],\n",
       "      dtype='object')"
      ]
     },
     "execution_count": 21,
     "metadata": {},
     "output_type": "execute_result"
    }
   ],
   "source": [
    "# column names are (annoyingly) lost after OneHotEncoding\n",
    "# (i.e. the dataframe is converted to a numpy ndarray)\n",
    "cat_col = ['City_Code','Accomodation_Type','Reco_Insurance_Type','Health Indicator']\n",
    "for  i in cat_col:\n",
    "    print('Numpy Array Formate columns \"'+str(i)+'\" : ', dataset[str(i)].to_numpy())\n",
    "# Write the code here to use 'encoder' to convert all the categorical columns to numerical representations\n",
    "from sklearn.preprocessing import OneHotEncoder\n",
    "one_coding = OneHotEncoder()\n",
    "df = pd.get_dummies(dataset,columns=['Accomodation_Type','Reco_Insurance_Type','Health Indicator'])\n",
    "df.columns\n",
    "# Take extra care to convert encoded numpy array to dataframe and call that data fram 'df_encoded'\n",
    "\n",
    "# ______________________________\n",
    "# ______________________________\n"
   ]
  },
  {
   "cell_type": "code",
   "execution_count": 22,
   "metadata": {},
   "outputs": [
    {
     "data": {
      "text/html": [
       "<div>\n",
       "<style scoped>\n",
       "    .dataframe tbody tr th:only-of-type {\n",
       "        vertical-align: middle;\n",
       "    }\n",
       "\n",
       "    .dataframe tbody tr th {\n",
       "        vertical-align: top;\n",
       "    }\n",
       "\n",
       "    .dataframe thead th {\n",
       "        text-align: right;\n",
       "    }\n",
       "</style>\n",
       "<table border=\"1\" class=\"dataframe\">\n",
       "  <thead>\n",
       "    <tr style=\"text-align: right;\">\n",
       "      <th></th>\n",
       "      <th>ID</th>\n",
       "      <th>City_Code</th>\n",
       "      <th>Region_Code</th>\n",
       "      <th>Upper_Age</th>\n",
       "      <th>Lower_Age</th>\n",
       "      <th>Is_Spouse</th>\n",
       "      <th>Holding_Policy_Duration</th>\n",
       "      <th>Holding_Policy_Type</th>\n",
       "      <th>Reco_Policy_Cat</th>\n",
       "      <th>Reco_Policy_Premium</th>\n",
       "      <th>...</th>\n",
       "      <th>Reco_Insurance_Type_1</th>\n",
       "      <th>Health Indicator_0</th>\n",
       "      <th>Health Indicator_1</th>\n",
       "      <th>Health Indicator_2</th>\n",
       "      <th>Health Indicator_3</th>\n",
       "      <th>Health Indicator_4</th>\n",
       "      <th>Health Indicator_5</th>\n",
       "      <th>Health Indicator_6</th>\n",
       "      <th>Health Indicator_7</th>\n",
       "      <th>Health Indicator_8</th>\n",
       "    </tr>\n",
       "  </thead>\n",
       "  <tbody>\n",
       "    <tr>\n",
       "      <th>0</th>\n",
       "      <td>27386</td>\n",
       "      <td>22</td>\n",
       "      <td>64</td>\n",
       "      <td>36</td>\n",
       "      <td>36</td>\n",
       "      <td>0</td>\n",
       "      <td>6</td>\n",
       "      <td>2.0</td>\n",
       "      <td>16</td>\n",
       "      <td>13320.0</td>\n",
       "      <td>...</td>\n",
       "      <td>0</td>\n",
       "      <td>1</td>\n",
       "      <td>0</td>\n",
       "      <td>0</td>\n",
       "      <td>0</td>\n",
       "      <td>0</td>\n",
       "      <td>0</td>\n",
       "      <td>0</td>\n",
       "      <td>0</td>\n",
       "      <td>0</td>\n",
       "    </tr>\n",
       "    <tr>\n",
       "      <th>1</th>\n",
       "      <td>33500</td>\n",
       "      <td>22</td>\n",
       "      <td>2955</td>\n",
       "      <td>66</td>\n",
       "      <td>66</td>\n",
       "      <td>0</td>\n",
       "      <td>1</td>\n",
       "      <td>1.0</td>\n",
       "      <td>19</td>\n",
       "      <td>16152.0</td>\n",
       "      <td>...</td>\n",
       "      <td>0</td>\n",
       "      <td>0</td>\n",
       "      <td>0</td>\n",
       "      <td>0</td>\n",
       "      <td>0</td>\n",
       "      <td>0</td>\n",
       "      <td>1</td>\n",
       "      <td>0</td>\n",
       "      <td>0</td>\n",
       "      <td>0</td>\n",
       "    </tr>\n",
       "  </tbody>\n",
       "</table>\n",
       "<p>2 rows × 24 columns</p>\n",
       "</div>"
      ],
      "text/plain": [
       "      ID  City_Code  Region_Code  Upper_Age  Lower_Age  Is_Spouse  \\\n",
       "0  27386         22           64         36         36          0   \n",
       "1  33500         22         2955         66         66          0   \n",
       "\n",
       "   Holding_Policy_Duration  Holding_Policy_Type  Reco_Policy_Cat  \\\n",
       "0                        6                  2.0               16   \n",
       "1                        1                  1.0               19   \n",
       "\n",
       "   Reco_Policy_Premium  ...  Reco_Insurance_Type_1  Health Indicator_0  \\\n",
       "0              13320.0  ...                      0                   1   \n",
       "1              16152.0  ...                      0                   0   \n",
       "\n",
       "   Health Indicator_1  Health Indicator_2  Health Indicator_3  \\\n",
       "0                   0                   0                   0   \n",
       "1                   0                   0                   0   \n",
       "\n",
       "   Health Indicator_4  Health Indicator_5  Health Indicator_6  \\\n",
       "0                   0                   0                   0   \n",
       "1                   0                   1                   0   \n",
       "\n",
       "   Health Indicator_7  Health Indicator_8  \n",
       "0                   0                   0  \n",
       "1                   0                   0  \n",
       "\n",
       "[2 rows x 24 columns]"
      ]
     },
     "execution_count": 22,
     "metadata": {},
     "output_type": "execute_result"
    }
   ],
   "source": [
    "# Concatinating the original data frame and onehot encoded dataframe\n",
    "df.head(2)"
   ]
  },
  {
   "cell_type": "code",
   "execution_count": 23,
   "metadata": {},
   "outputs": [
    {
     "data": {
      "text/plain": [
       "Index(['ID', 'City_Code', 'Region_Code', 'Upper_Age', 'Lower_Age', 'Is_Spouse',\n",
       "       'Holding_Policy_Duration', 'Holding_Policy_Type', 'Reco_Policy_Cat',\n",
       "       'Reco_Policy_Premium', 'Response', 'Accomodation_Type_0',\n",
       "       'Accomodation_Type_1', 'Reco_Insurance_Type_0', 'Reco_Insurance_Type_1',\n",
       "       'Health Indicator_0', 'Health Indicator_1', 'Health Indicator_2',\n",
       "       'Health Indicator_3', 'Health Indicator_4', 'Health Indicator_5',\n",
       "       'Health Indicator_6', 'Health Indicator_7', 'Health Indicator_8'],\n",
       "      dtype='object')"
      ]
     },
     "execution_count": 23,
     "metadata": {},
     "output_type": "execute_result"
    }
   ],
   "source": [
    "df.columns"
   ]
  },
  {
   "cell_type": "markdown",
   "metadata": {},
   "source": [
    "## Observe that 26.5% datapoints belong to one class rest all belongs to other class. Clearly dataset is having high imbalance.\n",
    "\n",
    "**To Do:**\n",
    "1. Read about Oversampling and Undersampling.\n",
    "2. Perform undersampling."
   ]
  },
  {
   "cell_type": "code",
   "execution_count": 24,
   "metadata": {},
   "outputs": [
    {
     "name": "stdout",
     "output_type": "stream",
     "text": [
      "Response\n",
      " 0    75.41\n",
      "1    24.59\n",
      "Name: Response, dtype: float64 %\n"
     ]
    }
   ],
   "source": [
    "#Observe that 26.5% datapoints belong to one class rest all belongs to other class.\n",
    "print('Response\\n',df['Response'].value_counts(normalize=True)*100,'%')"
   ]
  },
  {
   "cell_type": "markdown",
   "metadata": {},
   "source": [
    "## Train Test Split\n",
    "\n",
    "**To Do:**\n",
    "1. Sandardise the data\n",
    "2. Perform 80-20 split"
   ]
  },
  {
   "cell_type": "code",
   "execution_count": 25,
   "metadata": {},
   "outputs": [],
   "source": [
    "df.drop('ID',axis=1,inplace=True)"
   ]
  },
  {
   "cell_type": "code",
   "execution_count": 26,
   "metadata": {},
   "outputs": [],
   "source": [
    "df = df[['City_Code', 'Region_Code', 'Upper_Age', 'Lower_Age', 'Is_Spouse',\n",
    "       'Holding_Policy_Duration', 'Holding_Policy_Type', 'Reco_Policy_Cat',\n",
    "       'Reco_Policy_Premium','Accomodation_Type_0',\n",
    "       'Accomodation_Type_1', 'Reco_Insurance_Type_0', 'Reco_Insurance_Type_1',\n",
    "       'Health Indicator_0', 'Health Indicator_1', 'Health Indicator_2',\n",
    "       'Health Indicator_3', 'Health Indicator_4', 'Health Indicator_5',\n",
    "       'Health Indicator_6', 'Health Indicator_7', 'Health Indicator_8', 'Response']]"
   ]
  },
  {
   "cell_type": "code",
   "execution_count": 27,
   "metadata": {},
   "outputs": [],
   "source": [
    "X = df.iloc[:,:-1]\n",
    "y = df.iloc[:,-1]"
   ]
  },
  {
   "cell_type": "code",
   "execution_count": 28,
   "metadata": {},
   "outputs": [],
   "source": [
    "from sklearn.model_selection import train_test_split\n",
    "X_train,X_test,y_train,y_test = train_test_split(X,y,test_size=0.20,random_state=21)"
   ]
  },
  {
   "cell_type": "code",
   "execution_count": 29,
   "metadata": {},
   "outputs": [
    {
     "data": {
      "text/plain": [
       "(2000, 22)"
      ]
     },
     "execution_count": 29,
     "metadata": {},
     "output_type": "execute_result"
    }
   ],
   "source": [
    "X_test.shape"
   ]
  },
  {
   "cell_type": "code",
   "execution_count": 30,
   "metadata": {},
   "outputs": [
    {
     "name": "stdout",
     "output_type": "stream",
     "text": [
      "(8000, 22)\n",
      "(8000,)\n"
     ]
    }
   ],
   "source": [
    "print(X_train.shape)\n",
    "print(y_train.shape)"
   ]
  },
  {
   "cell_type": "code",
   "execution_count": 31,
   "metadata": {},
   "outputs": [
    {
     "data": {
      "text/plain": [
       "0    75.575\n",
       "1    24.425\n",
       "Name: Response, dtype: float64"
      ]
     },
     "execution_count": 31,
     "metadata": {},
     "output_type": "execute_result"
    }
   ],
   "source": [
    "#inbalancing \"Dependent Festures\" Data :  In percentage\n",
    "y_train.value_counts(normalize=True)*100"
   ]
  },
  {
   "cell_type": "code",
   "execution_count": 32,
   "metadata": {},
   "outputs": [],
   "source": [
    "### Inabalance Independent Veriable : \n",
    "from imblearn.over_sampling import SMOTE\n",
    "sm = SMOTE()    #SMOTE : Synthetic minority oversampling technique (inbalance Data Handling)\n",
    "X_train_smote,y_train_smote = sm.fit_resample(X_train,y_train)"
   ]
  },
  {
   "cell_type": "code",
   "execution_count": 33,
   "metadata": {},
   "outputs": [
    {
     "name": "stdout",
     "output_type": "stream",
     "text": [
      "(12092, 22)\n"
     ]
    }
   ],
   "source": [
    "print(X_train_smote.shape)"
   ]
  },
  {
   "cell_type": "code",
   "execution_count": 34,
   "metadata": {},
   "outputs": [
    {
     "name": "stdout",
     "output_type": "stream",
     "text": [
      "(12092,)\n"
     ]
    }
   ],
   "source": [
    "print(y_train_smote.shape)"
   ]
  },
  {
   "cell_type": "code",
   "execution_count": 35,
   "metadata": {},
   "outputs": [
    {
     "data": {
      "text/plain": [
       "1    50.0\n",
       "0    50.0\n",
       "Name: Response, dtype: float64"
      ]
     },
     "execution_count": 35,
     "metadata": {},
     "output_type": "execute_result"
    }
   ],
   "source": [
    "# After balancing Independent Veriable\n",
    "y_train_smote.value_counts(normalize=True)*100"
   ]
  },
  {
   "cell_type": "markdown",
   "metadata": {},
   "source": [
    "## Model Building - Logistic Regression, SVM, KNN, DT, RF, Gradient Boosting, AdaBoosting etc\n",
    "\n",
    "For all the algorithms mentioned above, perform below mentioned steps.\n",
    "\n",
    "**To Do:**\n",
    "1. Train the Model using `Accuracy` as the evaluation metric\n",
    "2. Predict\n",
    "3. Evaluate use Accuracy, Confusion Matrix, Precision & Recall, F1-score and ROC AUC to understand model performance\n",
    "4. Compare the perormance of all the models"
   ]
  },
  {
   "cell_type": "code",
   "execution_count": 36,
   "metadata": {},
   "outputs": [],
   "source": [
    "# Warining \n",
    "import warnings\n",
    "warnings.filterwarnings('ignore')\n",
    "\n",
    "# Linear Regression\n",
    "from sklearn.linear_model import LogisticRegression\n",
    "from sklearn.metrics import accuracy_score,precision_score,recall_score,confusion_matrix,classification_report,f1_score\n",
    "#Support Vector Matchine\n",
    "from sklearn import svm\n",
    "#KNN mathod\n",
    "from sklearn.neighbors import KNeighborsClassifier\n",
    "#Decision Tree\n",
    "from sklearn.tree import DecisionTreeClassifier\n",
    "#Random Forest\n",
    "from sklearn.ensemble import RandomForestClassifier\n",
    "# Graident Boosting\n",
    "from sklearn.ensemble import GradientBoostingClassifier\n",
    "#AdaBoosting\n",
    "from sklearn.ensemble import AdaBoostClassifier"
   ]
  },
  {
   "cell_type": "code",
   "execution_count": 37,
   "metadata": {},
   "outputs": [],
   "source": [
    "# Project Summary \n",
    "ModelSummary = {}\n",
    "k = 0"
   ]
  },
  {
   "cell_type": "code",
   "execution_count": 38,
   "metadata": {},
   "outputs": [
    {
     "name": "stdout",
     "output_type": "stream",
     "text": [
      "Logistic Regression Model Accuracy :  52.5 %\n",
      "Logistic Regression Model Precision :  59.8019801980198 %\n",
      "Logistic Regression Model Recall :  28.789323164918972 %\n",
      "Logistic Regression Model F1 score :  38.86743886743887 %\n"
     ]
    }
   ],
   "source": [
    "logreg = LogisticRegression()\n",
    "logreg.fit(X_train_smote,y_train_smote)\n",
    "y_pred = logreg.predict(X_test)\n",
    "print('Logistic Regression Model Accuracy : ', accuracy_score(y_pred,y_test)*100,'%')\n",
    "print('Logistic Regression Model Precision : ', precision_score(y_pred,y_test)*100,'%')\n",
    "print('Logistic Regression Model Recall : ', recall_score(y_pred,y_test)*100,'%')\n",
    "print('Logistic Regression Model F1 score : ', f1_score(y_pred,y_test)*100,'%')\n",
    "ModelName = 'Base_Logistic_Regression'\n",
    "Acc = accuracy_score(y_pred,y_test)*100\n",
    "pres = precision_score(y_pred,y_test)*100\n",
    "recal = recall_score(y_pred,y_test)*100\n",
    "f1score = f1_score(y_pred,y_test)*100"
   ]
  },
  {
   "cell_type": "code",
   "execution_count": 39,
   "metadata": {},
   "outputs": [
    {
     "name": "stdout",
     "output_type": "stream",
     "text": [
      "Logistic Regression Model Accuracy :  52.5 %\n",
      "[[748 203]\n",
      " [747 302]]\n",
      "              precision    recall  f1-score   support\n",
      "\n",
      "           0       0.50      0.79      0.61       951\n",
      "           1       0.60      0.29      0.39      1049\n",
      "\n",
      "    accuracy                           0.53      2000\n",
      "   macro avg       0.55      0.54      0.50      2000\n",
      "weighted avg       0.55      0.53      0.49      2000\n",
      "\n"
     ]
    },
    {
     "data": {
      "text/plain": [
       "{0: {'ModelName': 'Base_Logistic_Regression_classification',\n",
       "  'ModeAccuracy': 0.525,\n",
       "  'Precision': 0.598019801980198,\n",
       "  'Recall': 0.28789323164918973,\n",
       "  'f1score': 0.3886743886743887}}"
      ]
     },
     "execution_count": 39,
     "metadata": {},
     "output_type": "execute_result"
    },
    {
     "data": {
      "image/png": "[encoded data removed]",
      "text/plain": [
       "<Figure size 432x288 with 1 Axes>"
      ]
     },
     "metadata": {
      "needs_background": "light"
     },
     "output_type": "display_data"
    }
   ],
   "source": [
    "# Base Model : Logistic Regression\n",
    "logreg = LogisticRegression()\n",
    "logreg.fit(X_train_smote,y_train_smote)\n",
    "y_pred = logreg.predict(X_test)\n",
    "print('Logistic Regression Model Accuracy : ', accuracy_score(y_pred,y_test)*100,'%')\n",
    "\n",
    "print(confusion_matrix(y_pred,y_test))\n",
    "print(classification_report(y_pred,y_test))\n",
    "\n",
    "#ProjectSummary\n",
    "ModelName = 'Base_Logistic_Regression_classification'\n",
    "Acc = accuracy_score(y_pred,y_test)\n",
    "pres = precision_score(y_pred,y_test)\n",
    "recal = recall_score(y_pred,y_test)\n",
    "f1score = f1_score(y_pred,y_test)\n",
    "ModelSummary[k] = {}\n",
    "ModelSummary[k]['ModelName'] = ModelName\n",
    "ModelSummary[k]['ModelName'] = ModelName\n",
    "ModelSummary[k]['ModeAccuracy'] = Acc\n",
    "ModelSummary[k]['Precision'] = pres\n",
    "ModelSummary[k]['Recall'] = recal\n",
    "ModelSummary[k]['f1score'] = f1score\n",
    "k=k+1\n",
    "\n",
    "#ROC curve\n",
    "from sklearn.metrics import roc_curve\n",
    "fpr , tpr, threshold = roc_curve(y_test,y_pred)\n",
    "plt.plot(fpr,tpr,color='orange',label='ROC')\n",
    "plt.plot([0,1],[0,1],color='darkblue',linestyle='dotted')\n",
    "\n",
    "ModelSummary"
   ]
  },
  {
   "cell_type": "code",
   "execution_count": 40,
   "metadata": {},
   "outputs": [
    {
     "name": "stdout",
     "output_type": "stream",
     "text": [
      "KNeighborsClassifier Model Accuracy :  0.534\n",
      "[[862 299]\n",
      " [633 206]]\n",
      "              precision    recall  f1-score   support\n",
      "\n",
      "           0       0.58      0.74      0.65      1161\n",
      "           1       0.41      0.25      0.31       839\n",
      "\n",
      "    accuracy                           0.53      2000\n",
      "   macro avg       0.49      0.49      0.48      2000\n",
      "weighted avg       0.51      0.53      0.51      2000\n",
      "\n",
      "{0: {'ModelName': 'Base_Logistic_Regression_classification', 'ModeAccuracy': 0.525, 'Precision': 0.598019801980198, 'Recall': 0.28789323164918973, 'f1score': 0.3886743886743887}, 1: {'ModelName': 'Base_KNeighbors_classification', 'ModeAccuracy': 0.534, 'Precision': 0.4079207920792079, 'Recall': 0.24553039332538737, 'f1score': 0.30654761904761907}}\n"
     ]
    },
    {
     "data": {
      "text/plain": [
       "[<matplotlib.lines.Line2D at 0x21d786dca60>]"
      ]
     },
     "execution_count": 40,
     "metadata": {},
     "output_type": "execute_result"
    },
    {
     "data": {
      "image/png": "[encoded data removed]",
      "text/plain": [
       "<Figure size 432x288 with 1 Axes>"
      ]
     },
     "metadata": {
      "needs_background": "light"
     },
     "output_type": "display_data"
    }
   ],
   "source": [
    "# KNN claddsifiction\n",
    "knn = KNeighborsClassifier()\n",
    "knn.fit(X_train_smote,y_train_smote)\n",
    "y_pred = knn.predict(X_test)\n",
    "print('KNeighborsClassifier Model Accuracy : ', accuracy_score(y_pred,y_test))\n",
    "print(confusion_matrix(y_pred,y_test))\n",
    "print(classification_report(y_pred,y_test))\n",
    "\n",
    "#ProjectSummary\n",
    "ModelName = 'Base_KNeighbors_classification'\n",
    "Acc = accuracy_score(y_pred,y_test)\n",
    "pres = precision_score(y_pred,y_test)\n",
    "recal = recall_score(y_pred,y_test)\n",
    "f1score = f1_score(y_pred,y_test)\n",
    "ModelSummary[k] = {}\n",
    "ModelSummary[k]['ModelName'] = ModelName\n",
    "ModelSummary[k]['ModelName'] = ModelName\n",
    "ModelSummary[k]['ModeAccuracy'] = Acc\n",
    "ModelSummary[k]['Precision'] = pres\n",
    "ModelSummary[k]['Recall'] = recal\n",
    "ModelSummary[k]['f1score'] = f1score\n",
    "k=k+1\n",
    "print(ModelSummary)\n",
    "\n",
    "#ROC curve\n",
    "from sklearn.metrics import roc_curve\n",
    "fpr , tpr, threshold = roc_curve(y_test,y_pred)\n",
    "plt.plot(fpr,tpr,color='orange',label='ROC')\n",
    "plt.plot([0,1],[0,1],color='darkblue',linestyle='dotted')"
   ]
  },
  {
   "cell_type": "code",
   "execution_count": 41,
   "metadata": {},
   "outputs": [
    {
     "name": "stdout",
     "output_type": "stream",
     "text": [
      "DecisionTreeClassifier Model Accuracy :  0.627\n",
      "{0: {'ModelName': 'Base_Logistic_Regression_classification', 'ModeAccuracy': 0.525, 'Precision': 0.598019801980198, 'Recall': 0.28789323164918973, 'f1score': 0.3886743886743887}, 1: {'ModelName': 'Base_KNeighbors_classification', 'ModeAccuracy': 0.534, 'Precision': 0.4079207920792079, 'Recall': 0.24553039332538737, 'f1score': 0.30654761904761907}, 2: {'ModelName': 'Base_DecisionTree_classification', 'ModeAccuracy': 0.627, 'Precision': 0.31485148514851485, 'Recall': 0.2844364937388193, 'f1score': 0.29887218045112773}}\n"
     ]
    },
    {
     "data": {
      "text/plain": [
       "[<matplotlib.lines.Line2D at 0x21d0005dd00>]"
      ]
     },
     "execution_count": 41,
     "metadata": {},
     "output_type": "execute_result"
    },
    {
     "data": {
      "image/png": "[encoded data removed]",
      "text/plain": [
       "<Figure size 432x288 with 1 Axes>"
      ]
     },
     "metadata": {
      "needs_background": "light"
     },
     "output_type": "display_data"
    }
   ],
   "source": [
    "#Decision claddsifiction\n",
    "dt = DecisionTreeClassifier()\n",
    "dt.fit(X_train_smote,y_train_smote)\n",
    "y_pred = dt.predict(X_test)\n",
    "print('DecisionTreeClassifier Model Accuracy : ', accuracy_score(y_pred,y_test))\n",
    "confusion_matrix(y_pred,y_test)\n",
    "\n",
    "\n",
    "#ProjectSummary\n",
    "ModelName = 'Base_DecisionTree_classification'\n",
    "Acc = accuracy_score(y_pred,y_test)\n",
    "pres = precision_score(y_pred,y_test)\n",
    "recal = recall_score(y_pred,y_test)\n",
    "f1score = f1_score(y_pred,y_test)\n",
    "ModelSummary[k] = {}\n",
    "ModelSummary[k]['ModelName'] = ModelName\n",
    "ModelSummary[k]['ModelName'] = ModelName\n",
    "ModelSummary[k]['ModeAccuracy'] = Acc\n",
    "ModelSummary[k]['Precision'] = pres\n",
    "ModelSummary[k]['Recall'] = recal\n",
    "ModelSummary[k]['f1score'] = f1score\n",
    "k=k+1\n",
    "print(ModelSummary)\n",
    "\n",
    "#ROC curve\n",
    "from sklearn.metrics import roc_curve\n",
    "fpr , tpr, threshold = roc_curve(y_test,y_pred)\n",
    "plt.plot(fpr,tpr,color='orange',label='ROC')\n",
    "plt.plot([0,1],[0,1],color='darkblue',linestyle='dotted')"
   ]
  },
  {
   "cell_type": "code",
   "execution_count": 42,
   "metadata": {},
   "outputs": [
    {
     "name": "stdout",
     "output_type": "stream",
     "text": [
      "RandomForestClassifier Model Accuracy :  0.7285\n",
      "{0: {'ModelName': 'Base_Logistic_Regression_classification', 'ModeAccuracy': 0.525, 'Precision': 0.598019801980198, 'Recall': 0.28789323164918973, 'f1score': 0.3886743886743887}, 1: {'ModelName': 'Base_KNeighbors_classification', 'ModeAccuracy': 0.534, 'Precision': 0.4079207920792079, 'Recall': 0.24553039332538737, 'f1score': 0.30654761904761907}, 2: {'ModelName': 'Base_DecisionTree_classification', 'ModeAccuracy': 0.627, 'Precision': 0.31485148514851485, 'Recall': 0.2844364937388193, 'f1score': 0.29887218045112773}, 3: {'ModelName': 'Base_RandomForest_classification', 'ModeAccuracy': 0.7285, 'Precision': 0.09504950495049505, 'Recall': 0.3582089552238806, 'f1score': 0.15023474178403756}}\n"
     ]
    },
    {
     "data": {
      "text/plain": [
       "[<matplotlib.lines.Line2D at 0x21d78587970>]"
      ]
     },
     "execution_count": 42,
     "metadata": {},
     "output_type": "execute_result"
    },
    {
     "data": {
      "image/png": "[encoded data removed]",
      "text/plain": [
       "<Figure size 432x288 with 1 Axes>"
      ]
     },
     "metadata": {
      "needs_background": "light"
     },
     "output_type": "display_data"
    }
   ],
   "source": [
    "#Random Forest claddsifiction\n",
    "rnd = RandomForestClassifier()\n",
    "rnd.fit(X_train_smote,y_train_smote)\n",
    "y_pred = rnd.predict(X_test)\n",
    "print('RandomForestClassifier Model Accuracy : ', accuracy_score(y_pred,y_test))\n",
    "confusion_matrix(y_pred,y_test)\n",
    "\n",
    "\n",
    "#ProjectSummary\n",
    "ModelName = 'Base_RandomForest_classification'\n",
    "Acc = accuracy_score(y_pred,y_test)\n",
    "pres = precision_score(y_pred,y_test)\n",
    "recal = recall_score(y_pred,y_test)\n",
    "f1score = f1_score(y_pred,y_test)\n",
    "ModelSummary[k] = {}\n",
    "ModelSummary[k]['ModelName'] = ModelName\n",
    "ModelSummary[k]['ModelName'] = ModelName\n",
    "ModelSummary[k]['ModeAccuracy'] = Acc\n",
    "ModelSummary[k]['Precision'] = pres\n",
    "ModelSummary[k]['Recall'] = recal\n",
    "ModelSummary[k]['f1score'] = f1score\n",
    "k=k+1\n",
    "print(ModelSummary)\n",
    "\n",
    "#ROC curve\n",
    "from sklearn.metrics import roc_curve\n",
    "fpr , tpr, threshold = roc_curve(y_test,y_pred)\n",
    "plt.plot(fpr,tpr,color='orange',label='ROC')\n",
    "plt.plot([0,1],[0,1],color='darkblue',linestyle='dotted')"
   ]
  },
  {
   "cell_type": "code",
   "execution_count": 43,
   "metadata": {},
   "outputs": [
    {
     "name": "stdout",
     "output_type": "stream",
     "text": [
      "GradientBoostingClassifier Model Accuracy :  0.742\n",
      "{0: {'ModelName': 'Base_Logistic_Regression_classification', 'ModeAccuracy': 0.525, 'Precision': 0.598019801980198, 'Recall': 0.28789323164918973, 'f1score': 0.3886743886743887}, 1: {'ModelName': 'Base_KNeighbors_classification', 'ModeAccuracy': 0.534, 'Precision': 0.4079207920792079, 'Recall': 0.24553039332538737, 'f1score': 0.30654761904761907}, 2: {'ModelName': 'Base_DecisionTree_classification', 'ModeAccuracy': 0.627, 'Precision': 0.31485148514851485, 'Recall': 0.2844364937388193, 'f1score': 0.29887218045112773}, 3: {'ModelName': 'Base_RandomForest_classification', 'ModeAccuracy': 0.7285, 'Precision': 0.09504950495049505, 'Recall': 0.3582089552238806, 'f1score': 0.15023474178403756}, 4: {'ModelName': 'Base_GradientBoosting_classification', 'ModeAccuracy': 0.742, 'Precision': 0.011881188118811881, 'Recall': 0.2608695652173913, 'f1score': 0.022727272727272728}}\n"
     ]
    },
    {
     "data": {
      "text/plain": [
       "[<matplotlib.lines.Line2D at 0x21d000d1df0>]"
      ]
     },
     "execution_count": 43,
     "metadata": {},
     "output_type": "execute_result"
    },
    {
     "data": {
      "image/png": "[encoded data removed]",
      "text/plain": [
       "<Figure size 432x288 with 1 Axes>"
      ]
     },
     "metadata": {
      "needs_background": "light"
     },
     "output_type": "display_data"
    }
   ],
   "source": [
    "#Gradient Boosting claddsifiction\n",
    "grb = GradientBoostingClassifier()\n",
    "grb.fit(X_train_smote,y_train_smote)\n",
    "y_pred = grb.predict(X_test)\n",
    "print('GradientBoostingClassifier Model Accuracy : ', accuracy_score(y_pred,y_test))\n",
    "confusion_matrix(y_pred,y_test)\n",
    "\n",
    "#ProjectSummary\n",
    "ModelName = 'Base_GradientBoosting_classification'\n",
    "Acc = accuracy_score(y_pred,y_test)\n",
    "pres = precision_score(y_pred,y_test)\n",
    "recal = recall_score(y_pred,y_test)\n",
    "f1score = f1_score(y_pred,y_test)\n",
    "ModelSummary[k] = {}\n",
    "ModelSummary[k]['ModelName'] = ModelName\n",
    "ModelSummary[k]['ModelName'] = ModelName\n",
    "ModelSummary[k]['ModeAccuracy'] = Acc\n",
    "ModelSummary[k]['Precision'] = pres\n",
    "ModelSummary[k]['Recall'] = recal\n",
    "ModelSummary[k]['f1score'] = f1score\n",
    "k=k+1\n",
    "print(ModelSummary)\n",
    "\n",
    "#ROC curve\n",
    "from sklearn.metrics import roc_curve\n",
    "fpr , tpr, threshold = roc_curve(y_test,y_pred)\n",
    "plt.plot(fpr,tpr,color='orange',label='ROC')\n",
    "plt.plot([0,1],[0,1],color='darkblue',linestyle='dotted')"
   ]
  },
  {
   "cell_type": "code",
   "execution_count": 44,
   "metadata": {},
   "outputs": [
    {
     "name": "stdout",
     "output_type": "stream",
     "text": [
      "AdaBoostClassifier Model Accuracy :  73.75 %\n",
      "{0: {'ModelName': 'Base_Logistic_Regression_classification', 'ModeAccuracy': 0.525, 'Precision': 0.598019801980198, 'Recall': 0.28789323164918973, 'f1score': 0.3886743886743887}, 1: {'ModelName': 'Base_KNeighbors_classification', 'ModeAccuracy': 0.534, 'Precision': 0.4079207920792079, 'Recall': 0.24553039332538737, 'f1score': 0.30654761904761907}, 2: {'ModelName': 'Base_DecisionTree_classification', 'ModeAccuracy': 0.627, 'Precision': 0.31485148514851485, 'Recall': 0.2844364937388193, 'f1score': 0.29887218045112773}, 3: {'ModelName': 'Base_RandomForest_classification', 'ModeAccuracy': 0.7285, 'Precision': 0.09504950495049505, 'Recall': 0.3582089552238806, 'f1score': 0.15023474178403756}, 4: {'ModelName': 'Base_GradientBoosting_classification', 'ModeAccuracy': 0.742, 'Precision': 0.011881188118811881, 'Recall': 0.2608695652173913, 'f1score': 0.022727272727272728}, 5: {'ModelName': 'Base_AdaBoosting_classification', 'ModeAccuracy': 0.7375, 'Precision': 0.053465346534653464, 'Recall': 0.36486486486486486, 'f1score': 0.09326424870466321}}\n"
     ]
    },
    {
     "data": {
      "text/plain": [
       "[<matplotlib.lines.Line2D at 0x21d0013c2b0>]"
      ]
     },
     "execution_count": 44,
     "metadata": {},
     "output_type": "execute_result"
    },
    {
     "data": {
      "image/png": "[encoded data removed]",
      "text/plain": [
       "<Figure size 432x288 with 1 Axes>"
      ]
     },
     "metadata": {
      "needs_background": "light"
     },
     "output_type": "display_data"
    }
   ],
   "source": [
    "#Ada Boosting claddsifiction\n",
    "adb = AdaBoostClassifier()\n",
    "adb.fit(X_train_smote,y_train_smote)\n",
    "y_pred = adb.predict(X_test)\n",
    "print('AdaBoostClassifier Model Accuracy : ', accuracy_score(y_pred,y_test)*100,'%')\n",
    "confusion_matrix(y_pred,y_test)\n",
    "\n",
    "\n",
    "#ProjectSummary\n",
    "ModelName = 'Base_AdaBoosting_classification'\n",
    "Acc = accuracy_score(y_pred,y_test)\n",
    "pres = precision_score(y_pred,y_test)\n",
    "recal = recall_score(y_pred,y_test)\n",
    "f1score = f1_score(y_pred,y_test)\n",
    "ModelSummary[k] = {}\n",
    "ModelSummary[k]['ModelName'] = ModelName\n",
    "ModelSummary[k]['ModelName'] = ModelName\n",
    "ModelSummary[k]['ModeAccuracy'] = Acc\n",
    "ModelSummary[k]['Precision'] = pres\n",
    "ModelSummary[k]['Recall'] = recal\n",
    "ModelSummary[k]['f1score'] = f1score\n",
    "k=k+1\n",
    "print(ModelSummary)\n",
    "\n",
    "\n",
    "\n",
    "\n",
    "\n",
    "#ROC curve\n",
    "from sklearn.metrics import roc_curve\n",
    "fpr , tpr, threshold = roc_curve(y_test,y_pred)\n",
    "plt.plot(fpr,tpr,color='orange',label='ROC')\n",
    "plt.plot([0,1],[0,1],color='darkblue',linestyle='dotted')"
   ]
  },
  {
   "cell_type": "code",
   "execution_count": 97,
   "metadata": {},
   "outputs": [
    {
     "data": {
      "text/html": [
       "<div>\n",
       "<style scoped>\n",
       "    .dataframe tbody tr th:only-of-type {\n",
       "        vertical-align: middle;\n",
       "    }\n",
       "\n",
       "    .dataframe tbody tr th {\n",
       "        vertical-align: top;\n",
       "    }\n",
       "\n",
       "    .dataframe thead th {\n",
       "        text-align: right;\n",
       "    }\n",
       "</style>\n",
       "<table border=\"1\" class=\"dataframe\">\n",
       "  <thead>\n",
       "    <tr style=\"text-align: right;\">\n",
       "      <th></th>\n",
       "      <th>ModelName</th>\n",
       "      <th>ModeAccuracy</th>\n",
       "      <th>Precision</th>\n",
       "      <th>Recall</th>\n",
       "      <th>f1score</th>\n",
       "    </tr>\n",
       "  </thead>\n",
       "  <tbody>\n",
       "    <tr>\n",
       "      <th>0</th>\n",
       "      <td>Base_Logistic_Regression_classification</td>\n",
       "      <td>0.5250</td>\n",
       "      <td>0.598020</td>\n",
       "      <td>0.287893</td>\n",
       "      <td>0.388674</td>\n",
       "    </tr>\n",
       "    <tr>\n",
       "      <th>1</th>\n",
       "      <td>Base_KNeighbors_classification</td>\n",
       "      <td>0.5340</td>\n",
       "      <td>0.407921</td>\n",
       "      <td>0.245530</td>\n",
       "      <td>0.306548</td>\n",
       "    </tr>\n",
       "    <tr>\n",
       "      <th>2</th>\n",
       "      <td>Base_DecisionTree_classification</td>\n",
       "      <td>0.6270</td>\n",
       "      <td>0.314851</td>\n",
       "      <td>0.284436</td>\n",
       "      <td>0.298872</td>\n",
       "    </tr>\n",
       "    <tr>\n",
       "      <th>3</th>\n",
       "      <td>Base_RandomForest_classification</td>\n",
       "      <td>0.7285</td>\n",
       "      <td>0.095050</td>\n",
       "      <td>0.358209</td>\n",
       "      <td>0.150235</td>\n",
       "    </tr>\n",
       "    <tr>\n",
       "      <th>4</th>\n",
       "      <td>Base_GradientBoosting_classification</td>\n",
       "      <td>0.7420</td>\n",
       "      <td>0.011881</td>\n",
       "      <td>0.260870</td>\n",
       "      <td>0.022727</td>\n",
       "    </tr>\n",
       "    <tr>\n",
       "      <th>5</th>\n",
       "      <td>Base_AdaBoosting_classification</td>\n",
       "      <td>0.7375</td>\n",
       "      <td>0.053465</td>\n",
       "      <td>0.364865</td>\n",
       "      <td>0.093264</td>\n",
       "    </tr>\n",
       "  </tbody>\n",
       "</table>\n",
       "</div>"
      ],
      "text/plain": [
       "                                 ModelName  ModeAccuracy  Precision    Recall  \\\n",
       "0  Base_Logistic_Regression_classification        0.5250   0.598020  0.287893   \n",
       "1           Base_KNeighbors_classification        0.5340   0.407921  0.245530   \n",
       "2         Base_DecisionTree_classification        0.6270   0.314851  0.284436   \n",
       "3         Base_RandomForest_classification        0.7285   0.095050  0.358209   \n",
       "4     Base_GradientBoosting_classification        0.7420   0.011881  0.260870   \n",
       "5          Base_AdaBoosting_classification        0.7375   0.053465  0.364865   \n",
       "\n",
       "    f1score  \n",
       "0  0.388674  \n",
       "1  0.306548  \n",
       "2  0.298872  \n",
       "3  0.150235  \n",
       "4  0.022727  \n",
       "5  0.093264  "
      ]
     },
     "execution_count": 97,
     "metadata": {},
     "output_type": "execute_result"
    }
   ],
   "source": [
    "ModelName,ModeAccuracy,Precision,Recall,f1score = [],[],[],[],[]\n",
    "import json\n",
    "sorted_json_data = json.dumps(ModelSummary, sort_keys=True)\n",
    "finalJson = json.loads(sorted_json_data)\n",
    "finalJson\n",
    "for i in range(len(finalJson)):\n",
    "    List = finalJson[str(i)]\n",
    "    ModelName.append(List['ModelName'])\n",
    "    ModeAccuracy.append(List['ModeAccuracy'])\n",
    "    Precision.append(List['Precision'])\n",
    "    Recall.append(List['Recall'])\n",
    "    f1score.append(List['f1score'])\n",
    "df = pd.DataFrame()\n",
    "df['ModelName'] = ModelName\n",
    "df['ModeAccuracy'] = ModeAccuracy\n",
    "df['Precision'] = Precision\n",
    "df['Recall'] = Recall\n",
    "df['f1score'] = f1score\n",
    "\n",
    "df"
   ]
  },
  {
   "cell_type": "code",
   "execution_count": 98,
   "metadata": {},
   "outputs": [
    {
     "data": {
      "text/html": [
       "<div>\n",
       "<style scoped>\n",
       "    .dataframe tbody tr th:only-of-type {\n",
       "        vertical-align: middle;\n",
       "    }\n",
       "\n",
       "    .dataframe tbody tr th {\n",
       "        vertical-align: top;\n",
       "    }\n",
       "\n",
       "    .dataframe thead th {\n",
       "        text-align: right;\n",
       "    }\n",
       "</style>\n",
       "<table border=\"1\" class=\"dataframe\">\n",
       "  <thead>\n",
       "    <tr style=\"text-align: right;\">\n",
       "      <th></th>\n",
       "      <th>ModelName</th>\n",
       "      <th>ModeAccuracy</th>\n",
       "      <th>Precision</th>\n",
       "      <th>Recall</th>\n",
       "      <th>f1score</th>\n",
       "    </tr>\n",
       "  </thead>\n",
       "  <tbody>\n",
       "    <tr>\n",
       "      <th>4</th>\n",
       "      <td>Base_GradientBoosting_classification</td>\n",
       "      <td>0.742</td>\n",
       "      <td>0.011881</td>\n",
       "      <td>0.26087</td>\n",
       "      <td>0.022727</td>\n",
       "    </tr>\n",
       "  </tbody>\n",
       "</table>\n",
       "</div>"
      ],
      "text/plain": [
       "                              ModelName  ModeAccuracy  Precision   Recall  \\\n",
       "4  Base_GradientBoosting_classification         0.742   0.011881  0.26087   \n",
       "\n",
       "    f1score  \n",
       "4  0.022727  "
      ]
     },
     "execution_count": 98,
     "metadata": {},
     "output_type": "execute_result"
    }
   ],
   "source": [
    "# Higher Accurate Base Model is : \n",
    "df.sort_values('ModeAccuracy',ascending=False).head(1)"
   ]
  },
  {
   "cell_type": "code",
   "execution_count": 99,
   "metadata": {},
   "outputs": [
    {
     "data": {
      "image/png": "[encoded data removed]",
      "text/plain": [
       "<Figure size 504x216 with 1 Axes>"
      ]
     },
     "metadata": {
      "needs_background": "light"
     },
     "output_type": "display_data"
    }
   ],
   "source": [
    "plt.figure(figsize=(7,3))\n",
    "sns.barplot(df['ModelName'],df['ModeAccuracy'])\n",
    "plt.title('Base Model Summary Report')\n",
    "plt.xticks(rotation=90)\n",
    "plt.show()"
   ]
  },
  {
   "cell_type": "code",
   "execution_count": 100,
   "metadata": {},
   "outputs": [
    {
     "data": {
      "image/png": "[encoded data removed]",
      "text/plain": [
       "<Figure size 720x720 with 1 Axes>"
      ]
     },
     "metadata": {},
     "output_type": "display_data"
    }
   ],
   "source": [
    "plt.figure(figsize=(10,10))\n",
    "label = df['ModelName'].unique()\n",
    "plt.pie(df['ModeAccuracy'],autopct=\"%.2f%%\",labels=label,pctdistance=0.9,explode=[0.02]*6)\n",
    "plt.title('Model Accuracy chart based on the - \"Model Accuracy\" - (TP+TN)/(TP+FN+FP+TN)')\n",
    "plt.show()"
   ]
  },
  {
   "cell_type": "markdown",
   "metadata": {},
   "source": [
    "# Model Building - SVM, KNN, DT, RF, Gradient Boosting, AdaBoosting etc\n",
    "\n",
    "For all the algorithms mentioned above, perform below mentioned steps.\n",
    "\n",
    "**To Do:**\n",
    "1. Perform appropriate Hyperparameter Tuning\n",
    "2. Train the Model using `Accuracy` as the evaluation metric\n",
    "3. Predict\n",
    "4. Evaluate\n",
    "5. Use Accuracy, Confusion Matrix, Precision & Recall, F1-score and ROC AUC to understand model performance\n",
    "6. Compare the perormance of all the models"
   ]
  },
  {
   "cell_type": "markdown",
   "metadata": {},
   "source": [
    "# Hyper Parameter Tunning \n",
    "    1. Logistic Regression\n",
    "    2. Support Vector Machine\n",
    "    3. KNN\n",
    "    4. Random Forest\n",
    "    5. Gradient Boosting\n",
    "    6. AdaBoosting"
   ]
  },
  {
   "cell_type": "markdown",
   "metadata": {},
   "source": [
    "# Logistic Regression"
   ]
  },
  {
   "cell_type": "code",
   "execution_count": 49,
   "metadata": {},
   "outputs": [
    {
     "name": "stdout",
     "output_type": "stream",
     "text": [
      "Logistic Regression Model Accuracy :  52.5 %\n",
      "\n",
      "\n",
      "[[748 203]\n",
      " [747 302]]\n",
      "\n",
      "\n",
      "              precision    recall  f1-score   support\n",
      "\n",
      "           0       0.50      0.79      0.61       951\n",
      "           1       0.60      0.29      0.39      1049\n",
      "\n",
      "    accuracy                           0.53      2000\n",
      "   macro avg       0.55      0.54      0.50      2000\n",
      "weighted avg       0.55      0.53      0.49      2000\n",
      "\n"
     ]
    },
    {
     "data": {
      "text/plain": [
       "[<matplotlib.lines.Line2D at 0x21d00278670>]"
      ]
     },
     "execution_count": 49,
     "metadata": {},
     "output_type": "execute_result"
    },
    {
     "data": {
      "image/png": "[encoded data removed]",
      "text/plain": [
       "<Figure size 432x288 with 1 Axes>"
      ]
     },
     "metadata": {
      "needs_background": "light"
     },
     "output_type": "display_data"
    }
   ],
   "source": [
    "#Logistic Regression\n",
    "logreg = LogisticRegression()\n",
    "logreg.fit(X_train_smote,y_train_smote)\n",
    "y_pred = logreg.predict(X_test)\n",
    "print('Logistic Regression Model Accuracy : ', accuracy_score(y_pred,y_test)*100,'%')\n",
    "print('\\n')\n",
    "print(confusion_matrix(y_pred,y_test))\n",
    "print('\\n')\n",
    "print(classification_report(y_pred,y_test))\n",
    "\n",
    "#ROC curve\n",
    "from sklearn.metrics import roc_curve\n",
    "fpr , tpr, threshold = roc_curve(y_test,y_pred)\n",
    "plt.plot(fpr,tpr,color='orange',label='ROC')\n",
    "plt.plot([0,1],[0,1],color='darkblue',linestyle='dotted')"
   ]
  },
  {
   "cell_type": "markdown",
   "metadata": {},
   "source": [
    "## HyperParameter Tunning (Logistic Regression)\n",
    "    1.penalty{‘l1’, ‘l2’, ‘elasticnet’, ‘none’}\n",
    "    2.C : float (Inverse of regularization strength : smaller values specify stronger regularization.)\n",
    "    3.random_state : int\n",
    "    4.solver{‘newton-cg’, ‘lbfgs’, ‘liblinear’, ‘sag’, ‘saga’}\n",
    "    5.max_iter : int (Maximum number of iterations taken for the solvers to converge.)\n",
    "    6.verbose : int (For the liblinear and lbfgs solvers set verbose to any positive number for verbosity.)\n",
    "    7.n_jobs : int"
   ]
  },
  {
   "cell_type": "code",
   "execution_count": 50,
   "metadata": {},
   "outputs": [
    {
     "name": "stdout",
     "output_type": "stream",
     "text": [
      "Overfitting check with Test case :  51.37500000000001 %\n",
      "Overfitting check with Test Case :  52.5 %\n"
     ]
    }
   ],
   "source": [
    "# check Overfitting anf underfitting case\n",
    "print('Overfitting check with Test case : ',logreg.score(X_train,y_train)*100,'%')\n",
    "print('Overfitting check with Test Case : ',logreg.score(X_test,y_test)*100,'%')"
   ]
  },
  {
   "cell_type": "code",
   "execution_count": 60,
   "metadata": {},
   "outputs": [],
   "source": [
    "#HyprModelSummary\n",
    "HyprModelSummary = {}\n",
    "T = 0"
   ]
  },
  {
   "cell_type": "code",
   "execution_count": 61,
   "metadata": {},
   "outputs": [
    {
     "data": {
      "text/html": [
       "<div>\n",
       "<style scoped>\n",
       "    .dataframe tbody tr th:only-of-type {\n",
       "        vertical-align: middle;\n",
       "    }\n",
       "\n",
       "    .dataframe tbody tr th {\n",
       "        vertical-align: top;\n",
       "    }\n",
       "\n",
       "    .dataframe thead th {\n",
       "        text-align: right;\n",
       "    }\n",
       "</style>\n",
       "<table border=\"1\" class=\"dataframe\">\n",
       "  <thead>\n",
       "    <tr style=\"text-align: right;\">\n",
       "      <th></th>\n",
       "      <th>City_Code</th>\n",
       "      <th>Region_Code</th>\n",
       "      <th>Upper_Age</th>\n",
       "      <th>Lower_Age</th>\n",
       "      <th>Is_Spouse</th>\n",
       "      <th>Holding_Policy_Duration</th>\n",
       "      <th>Holding_Policy_Type</th>\n",
       "      <th>Reco_Policy_Cat</th>\n",
       "      <th>Reco_Policy_Premium</th>\n",
       "      <th>Accomodation_Type_0</th>\n",
       "      <th>...</th>\n",
       "      <th>Reco_Insurance_Type_1</th>\n",
       "      <th>Health Indicator_0</th>\n",
       "      <th>Health Indicator_1</th>\n",
       "      <th>Health Indicator_2</th>\n",
       "      <th>Health Indicator_3</th>\n",
       "      <th>Health Indicator_4</th>\n",
       "      <th>Health Indicator_5</th>\n",
       "      <th>Health Indicator_6</th>\n",
       "      <th>Health Indicator_7</th>\n",
       "      <th>Health Indicator_8</th>\n",
       "    </tr>\n",
       "  </thead>\n",
       "  <tbody>\n",
       "    <tr>\n",
       "      <th>3821</th>\n",
       "      <td>31</td>\n",
       "      <td>3533</td>\n",
       "      <td>28</td>\n",
       "      <td>28</td>\n",
       "      <td>0</td>\n",
       "      <td>13</td>\n",
       "      <td>4.0</td>\n",
       "      <td>1</td>\n",
       "      <td>7440.0</td>\n",
       "      <td>0</td>\n",
       "      <td>...</td>\n",
       "      <td>0</td>\n",
       "      <td>1</td>\n",
       "      <td>0</td>\n",
       "      <td>0</td>\n",
       "      <td>0</td>\n",
       "      <td>0</td>\n",
       "      <td>0</td>\n",
       "      <td>0</td>\n",
       "      <td>0</td>\n",
       "      <td>0</td>\n",
       "    </tr>\n",
       "    <tr>\n",
       "      <th>6136</th>\n",
       "      <td>0</td>\n",
       "      <td>1426</td>\n",
       "      <td>51</td>\n",
       "      <td>51</td>\n",
       "      <td>0</td>\n",
       "      <td>9</td>\n",
       "      <td>3.0</td>\n",
       "      <td>12</td>\n",
       "      <td>13530.0</td>\n",
       "      <td>1</td>\n",
       "      <td>...</td>\n",
       "      <td>0</td>\n",
       "      <td>0</td>\n",
       "      <td>0</td>\n",
       "      <td>1</td>\n",
       "      <td>0</td>\n",
       "      <td>0</td>\n",
       "      <td>0</td>\n",
       "      <td>0</td>\n",
       "      <td>0</td>\n",
       "      <td>0</td>\n",
       "    </tr>\n",
       "    <tr>\n",
       "      <th>8161</th>\n",
       "      <td>8</td>\n",
       "      <td>420</td>\n",
       "      <td>29</td>\n",
       "      <td>29</td>\n",
       "      <td>0</td>\n",
       "      <td>6</td>\n",
       "      <td>3.0</td>\n",
       "      <td>1</td>\n",
       "      <td>8704.0</td>\n",
       "      <td>0</td>\n",
       "      <td>...</td>\n",
       "      <td>0</td>\n",
       "      <td>1</td>\n",
       "      <td>0</td>\n",
       "      <td>0</td>\n",
       "      <td>0</td>\n",
       "      <td>0</td>\n",
       "      <td>0</td>\n",
       "      <td>0</td>\n",
       "      <td>0</td>\n",
       "      <td>0</td>\n",
       "    </tr>\n",
       "    <tr>\n",
       "      <th>655</th>\n",
       "      <td>0</td>\n",
       "      <td>2950</td>\n",
       "      <td>75</td>\n",
       "      <td>75</td>\n",
       "      <td>0</td>\n",
       "      <td>6</td>\n",
       "      <td>3.0</td>\n",
       "      <td>22</td>\n",
       "      <td>20704.0</td>\n",
       "      <td>0</td>\n",
       "      <td>...</td>\n",
       "      <td>0</td>\n",
       "      <td>1</td>\n",
       "      <td>0</td>\n",
       "      <td>0</td>\n",
       "      <td>0</td>\n",
       "      <td>0</td>\n",
       "      <td>0</td>\n",
       "      <td>0</td>\n",
       "      <td>0</td>\n",
       "      <td>0</td>\n",
       "    </tr>\n",
       "    <tr>\n",
       "      <th>2950</th>\n",
       "      <td>11</td>\n",
       "      <td>137</td>\n",
       "      <td>47</td>\n",
       "      <td>41</td>\n",
       "      <td>1</td>\n",
       "      <td>0</td>\n",
       "      <td>1.0</td>\n",
       "      <td>22</td>\n",
       "      <td>22080.0</td>\n",
       "      <td>0</td>\n",
       "      <td>...</td>\n",
       "      <td>1</td>\n",
       "      <td>1</td>\n",
       "      <td>0</td>\n",
       "      <td>0</td>\n",
       "      <td>0</td>\n",
       "      <td>0</td>\n",
       "      <td>0</td>\n",
       "      <td>0</td>\n",
       "      <td>0</td>\n",
       "      <td>0</td>\n",
       "    </tr>\n",
       "    <tr>\n",
       "      <th>...</th>\n",
       "      <td>...</td>\n",
       "      <td>...</td>\n",
       "      <td>...</td>\n",
       "      <td>...</td>\n",
       "      <td>...</td>\n",
       "      <td>...</td>\n",
       "      <td>...</td>\n",
       "      <td>...</td>\n",
       "      <td>...</td>\n",
       "      <td>...</td>\n",
       "      <td>...</td>\n",
       "      <td>...</td>\n",
       "      <td>...</td>\n",
       "      <td>...</td>\n",
       "      <td>...</td>\n",
       "      <td>...</td>\n",
       "      <td>...</td>\n",
       "      <td>...</td>\n",
       "      <td>...</td>\n",
       "      <td>...</td>\n",
       "      <td>...</td>\n",
       "    </tr>\n",
       "    <tr>\n",
       "      <th>4587</th>\n",
       "      <td>22</td>\n",
       "      <td>1955</td>\n",
       "      <td>25</td>\n",
       "      <td>25</td>\n",
       "      <td>0</td>\n",
       "      <td>6</td>\n",
       "      <td>3.0</td>\n",
       "      <td>18</td>\n",
       "      <td>11592.0</td>\n",
       "      <td>0</td>\n",
       "      <td>...</td>\n",
       "      <td>0</td>\n",
       "      <td>1</td>\n",
       "      <td>0</td>\n",
       "      <td>0</td>\n",
       "      <td>0</td>\n",
       "      <td>0</td>\n",
       "      <td>0</td>\n",
       "      <td>0</td>\n",
       "      <td>0</td>\n",
       "      <td>0</td>\n",
       "    </tr>\n",
       "    <tr>\n",
       "      <th>6646</th>\n",
       "      <td>11</td>\n",
       "      <td>719</td>\n",
       "      <td>23</td>\n",
       "      <td>23</td>\n",
       "      <td>0</td>\n",
       "      <td>6</td>\n",
       "      <td>3.0</td>\n",
       "      <td>17</td>\n",
       "      <td>3684.0</td>\n",
       "      <td>0</td>\n",
       "      <td>...</td>\n",
       "      <td>0</td>\n",
       "      <td>1</td>\n",
       "      <td>0</td>\n",
       "      <td>0</td>\n",
       "      <td>0</td>\n",
       "      <td>0</td>\n",
       "      <td>0</td>\n",
       "      <td>0</td>\n",
       "      <td>0</td>\n",
       "      <td>0</td>\n",
       "    </tr>\n",
       "    <tr>\n",
       "      <th>5478</th>\n",
       "      <td>12</td>\n",
       "      <td>5811</td>\n",
       "      <td>22</td>\n",
       "      <td>22</td>\n",
       "      <td>0</td>\n",
       "      <td>6</td>\n",
       "      <td>3.0</td>\n",
       "      <td>1</td>\n",
       "      <td>5370.0</td>\n",
       "      <td>0</td>\n",
       "      <td>...</td>\n",
       "      <td>0</td>\n",
       "      <td>0</td>\n",
       "      <td>0</td>\n",
       "      <td>0</td>\n",
       "      <td>0</td>\n",
       "      <td>0</td>\n",
       "      <td>1</td>\n",
       "      <td>0</td>\n",
       "      <td>0</td>\n",
       "      <td>0</td>\n",
       "    </tr>\n",
       "    <tr>\n",
       "      <th>8548</th>\n",
       "      <td>34</td>\n",
       "      <td>3260</td>\n",
       "      <td>47</td>\n",
       "      <td>47</td>\n",
       "      <td>0</td>\n",
       "      <td>6</td>\n",
       "      <td>2.0</td>\n",
       "      <td>20</td>\n",
       "      <td>16172.0</td>\n",
       "      <td>1</td>\n",
       "      <td>...</td>\n",
       "      <td>0</td>\n",
       "      <td>0</td>\n",
       "      <td>1</td>\n",
       "      <td>0</td>\n",
       "      <td>0</td>\n",
       "      <td>0</td>\n",
       "      <td>0</td>\n",
       "      <td>0</td>\n",
       "      <td>0</td>\n",
       "      <td>0</td>\n",
       "    </tr>\n",
       "    <tr>\n",
       "      <th>6276</th>\n",
       "      <td>9</td>\n",
       "      <td>4178</td>\n",
       "      <td>22</td>\n",
       "      <td>22</td>\n",
       "      <td>0</td>\n",
       "      <td>6</td>\n",
       "      <td>3.0</td>\n",
       "      <td>1</td>\n",
       "      <td>7910.0</td>\n",
       "      <td>0</td>\n",
       "      <td>...</td>\n",
       "      <td>0</td>\n",
       "      <td>0</td>\n",
       "      <td>0</td>\n",
       "      <td>0</td>\n",
       "      <td>1</td>\n",
       "      <td>0</td>\n",
       "      <td>0</td>\n",
       "      <td>0</td>\n",
       "      <td>0</td>\n",
       "      <td>0</td>\n",
       "    </tr>\n",
       "  </tbody>\n",
       "</table>\n",
       "<p>8000 rows × 22 columns</p>\n",
       "</div>"
      ],
      "text/plain": [
       "      City_Code  Region_Code  Upper_Age  Lower_Age  Is_Spouse  \\\n",
       "3821         31         3533         28         28          0   \n",
       "6136          0         1426         51         51          0   \n",
       "8161          8          420         29         29          0   \n",
       "655           0         2950         75         75          0   \n",
       "2950         11          137         47         41          1   \n",
       "...         ...          ...        ...        ...        ...   \n",
       "4587         22         1955         25         25          0   \n",
       "6646         11          719         23         23          0   \n",
       "5478         12         5811         22         22          0   \n",
       "8548         34         3260         47         47          0   \n",
       "6276          9         4178         22         22          0   \n",
       "\n",
       "      Holding_Policy_Duration  Holding_Policy_Type  Reco_Policy_Cat  \\\n",
       "3821                       13                  4.0                1   \n",
       "6136                        9                  3.0               12   \n",
       "8161                        6                  3.0                1   \n",
       "655                         6                  3.0               22   \n",
       "2950                        0                  1.0               22   \n",
       "...                       ...                  ...              ...   \n",
       "4587                        6                  3.0               18   \n",
       "6646                        6                  3.0               17   \n",
       "5478                        6                  3.0                1   \n",
       "8548                        6                  2.0               20   \n",
       "6276                        6                  3.0                1   \n",
       "\n",
       "      Reco_Policy_Premium  Accomodation_Type_0  ...  Reco_Insurance_Type_1  \\\n",
       "3821               7440.0                    0  ...                      0   \n",
       "6136              13530.0                    1  ...                      0   \n",
       "8161               8704.0                    0  ...                      0   \n",
       "655               20704.0                    0  ...                      0   \n",
       "2950              22080.0                    0  ...                      1   \n",
       "...                   ...                  ...  ...                    ...   \n",
       "4587              11592.0                    0  ...                      0   \n",
       "6646               3684.0                    0  ...                      0   \n",
       "5478               5370.0                    0  ...                      0   \n",
       "8548              16172.0                    1  ...                      0   \n",
       "6276               7910.0                    0  ...                      0   \n",
       "\n",
       "      Health Indicator_0  Health Indicator_1  Health Indicator_2  \\\n",
       "3821                   1                   0                   0   \n",
       "6136                   0                   0                   1   \n",
       "8161                   1                   0                   0   \n",
       "655                    1                   0                   0   \n",
       "2950                   1                   0                   0   \n",
       "...                  ...                 ...                 ...   \n",
       "4587                   1                   0                   0   \n",
       "6646                   1                   0                   0   \n",
       "5478                   0                   0                   0   \n",
       "8548                   0                   1                   0   \n",
       "6276                   0                   0                   0   \n",
       "\n",
       "      Health Indicator_3  Health Indicator_4  Health Indicator_5  \\\n",
       "3821                   0                   0                   0   \n",
       "6136                   0                   0                   0   \n",
       "8161                   0                   0                   0   \n",
       "655                    0                   0                   0   \n",
       "2950                   0                   0                   0   \n",
       "...                  ...                 ...                 ...   \n",
       "4587                   0                   0                   0   \n",
       "6646                   0                   0                   0   \n",
       "5478                   0                   0                   1   \n",
       "8548                   0                   0                   0   \n",
       "6276                   1                   0                   0   \n",
       "\n",
       "      Health Indicator_6  Health Indicator_7  Health Indicator_8  \n",
       "3821                   0                   0                   0  \n",
       "6136                   0                   0                   0  \n",
       "8161                   0                   0                   0  \n",
       "655                    0                   0                   0  \n",
       "2950                   0                   0                   0  \n",
       "...                  ...                 ...                 ...  \n",
       "4587                   0                   0                   0  \n",
       "6646                   0                   0                   0  \n",
       "5478                   0                   0                   0  \n",
       "8548                   0                   0                   0  \n",
       "6276                   0                   0                   0  \n",
       "\n",
       "[8000 rows x 22 columns]"
      ]
     },
     "execution_count": 61,
     "metadata": {},
     "output_type": "execute_result"
    }
   ],
   "source": [
    "X_train"
   ]
  },
  {
   "cell_type": "code",
   "execution_count": 62,
   "metadata": {},
   "outputs": [
    {
     "name": "stdout",
     "output_type": "stream",
     "text": [
      "Fitting 3 folds for each of 42 candidates, totalling 126 fits\n",
      "Logistic Regression Model Accuracy :  75.7 %\n",
      "[[1513  486]\n",
      " [   0    1]]\n",
      "              precision    recall  f1-score   support\n",
      "\n",
      "           0       1.00      0.76      0.86      1999\n",
      "           1       0.00      1.00      0.00         1\n",
      "\n",
      "    accuracy                           0.76      2000\n",
      "   macro avg       0.50      0.88      0.43      2000\n",
      "weighted avg       1.00      0.76      0.86      2000\n",
      "\n"
     ]
    },
    {
     "data": {
      "text/plain": [
       "{0: {'ModelName': 'HyprTunning_Logistic_Regression_classification',\n",
       "  'ModeAccuracy': 0.757,\n",
       "  'Precision': 0.002053388090349076,\n",
       "  'Recall': 1.0,\n",
       "  'f1score': 0.004098360655737705}}"
      ]
     },
     "execution_count": 62,
     "metadata": {},
     "output_type": "execute_result"
    }
   ],
   "source": [
    "#Sample Split\n",
    "from sklearn.model_selection import train_test_split\n",
    "X_train,X_test,y_train,y_test = train_test_split(X,y,test_size=0.20,random_state=22)\n",
    "\n",
    "# Labling\n",
    "### Inbalance Independent Veriable : \n",
    "from imblearn.over_sampling import SMOTE\n",
    "sm = SMOTE()    #SMOTE : Synthetic minority oversampling technique (inbalance Data Handling)\n",
    "X_train_smote,y_train_smote = sm.fit_resample(X_train,y_train)\n",
    "\n",
    "#Logistic Regression\n",
    "#logreg = LogisticRegression(penalty='l1',C=0.01,solver='liblinear',max_iter=100,verbose=1)\n",
    "\n",
    "from sklearn.model_selection import GridSearchCV\n",
    "grid_params = {\"C\":np.logspace(-3,3,7), \n",
    "               \"penalty\":[\"l1\",\"l2\"],\n",
    "              'solver': ['newton-cg', 'lbfgs', 'liblinear']}\n",
    "\n",
    "grid_model = GridSearchCV(LogisticRegression(), grid_params, verbose =1, cv=3, n_jobs = -1)\n",
    "grid_Search = grid_model.fit(X_train_smote,y_train_smote)\n",
    "grid = grid_model.best_estimator_\n",
    "\n",
    "model = grid.fit(X_train_smote,y_train_smote)\n",
    "y_pred = model.predict(X_test)\n",
    "print('Logistic Regression Model Accuracy : ', accuracy_score(y_pred,y_test)*100,'%')\n",
    "print(confusion_matrix(y_pred,y_test))\n",
    "print(classification_report(y_pred,y_test))\n",
    "\n",
    "#HyprProjectSummary\n",
    "ModelName = 'HyprTunning_Logistic_Regression_classification'\n",
    "Acc = accuracy_score(y_pred,y_test)\n",
    "pres = precision_score(y_pred,y_test)\n",
    "recal = recall_score(y_pred,y_test)\n",
    "f1score = f1_score(y_pred,y_test)\n",
    "HyprModelSummary[T] = {}\n",
    "HyprModelSummary[T]['ModelName'] = ModelName\n",
    "HyprModelSummary[T]['ModeAccuracy'] = Acc\n",
    "HyprModelSummary[T]['Precision'] = pres\n",
    "HyprModelSummary[T]['Recall'] = recal\n",
    "HyprModelSummary[T]['f1score'] = f1score\n",
    "T=T+1\n",
    "\n",
    "HyprModelSummary"
   ]
  },
  {
   "cell_type": "markdown",
   "metadata": {},
   "source": [
    "# Feature Selection\n",
    "    Feature Selection is a techinque of finding out the features that contribute the most to our model i.e. the best predictors."
   ]
  },
  {
   "cell_type": "code",
   "execution_count": null,
   "metadata": {},
   "outputs": [],
   "source": []
  },
  {
   "cell_type": "markdown",
   "metadata": {},
   "source": [
    "# KNN classification"
   ]
  },
  {
   "cell_type": "code",
   "execution_count": 63,
   "metadata": {},
   "outputs": [
    {
     "name": "stdout",
     "output_type": "stream",
     "text": [
      "   Alpha  Accuracy\n",
      "0      1    0.5600\n",
      "1      2    0.6170\n",
      "2      3    0.5370\n",
      "3      4    0.5990\n",
      "4      5    0.5270\n",
      "5      6    0.5690\n",
      "6      7    0.5155\n",
      "7      8    0.5560\n",
      "8      9    0.5190\n"
     ]
    },
    {
     "data": {
      "image/png": "[encoded data removed]",
      "text/plain": [
       "<Figure size 432x288 with 1 Axes>"
      ]
     },
     "metadata": {
      "needs_background": "light"
     },
     "output_type": "display_data"
    },
    {
     "name": "stdout",
     "output_type": "stream",
     "text": [
      "Fitting 3 folds for each of 36 candidates, totalling 108 fits\n",
      "KNeighborsClassifier Model Accuracy :  53.05 %\n",
      "[[861 305]\n",
      " [634 200]]\n",
      "              precision    recall  f1-score   support\n",
      "\n",
      "           0       0.58      0.74      0.65      1166\n",
      "           1       0.40      0.24      0.30       834\n",
      "\n",
      "    accuracy                           0.53      2000\n",
      "   macro avg       0.49      0.49      0.47      2000\n",
      "weighted avg       0.50      0.53      0.50      2000\n",
      "\n"
     ]
    },
    {
     "data": {
      "text/plain": [
       "{0: {'ModelName': 'HyprTunning_Logistic_Regression_classification',\n",
       "  'ModeAccuracy': 0.757,\n",
       "  'Precision': 0.002053388090349076,\n",
       "  'Recall': 1.0,\n",
       "  'f1score': 0.004098360655737705},\n",
       " 1: {'ModelName': 'HyprTunning_KNeighborsClassifier_Model',\n",
       "  'ModeAccuracy': 0.5305,\n",
       "  'Precision': 0.39603960396039606,\n",
       "  'Recall': 0.23980815347721823,\n",
       "  'f1score': 0.2987303958177745}}"
      ]
     },
     "execution_count": 63,
     "metadata": {},
     "output_type": "execute_result"
    }
   ],
   "source": [
    "#Sample Split\n",
    "from sklearn.model_selection import train_test_split\n",
    "X_train,X_test,y_train,y_test = train_test_split(X,y,test_size=0.20,random_state=21)\n",
    "\n",
    "# Labling\n",
    "### Inabalance Independent Veriable : \n",
    "from imblearn.over_sampling import SMOTE\n",
    "sm = SMOTE()    #SMOTE : Synthetic minority oversampling technique (inbalance Data Handling)\n",
    "X_train_smote,y_train_smote = sm.fit_resample(X_train,y_train)\n",
    "\n",
    "from sklearn import metrics\n",
    "\n",
    "Acc = []\n",
    "alpha = []\n",
    "# KNN claddsifiction\n",
    "for i in range(1,10):\n",
    "    knn = KNeighborsClassifier(n_neighbors=i)\n",
    "    knn.fit(X_train_smote,y_train_smote)\n",
    "    y_pred = knn.predict(X_test)\n",
    "    #print('KNeighborsClassifier Model Accuracy :'+str(i)+' ---', accuracy_score(y_pred,y_test))\n",
    "    alpha.append(i)\n",
    "    Acc.append(accuracy_score(y_pred,y_test))\n",
    "\n",
    "Knn_acc = pd.DataFrame()\n",
    "Knn_acc['Alpha'] = alpha\n",
    "Knn_acc['Accuracy'] = Acc\n",
    "print(Knn_acc)\n",
    "\n",
    "sns.lineplot(x=alpha,y=Acc)\n",
    "plt.title('KNN Project Accuracy')\n",
    "plt.show()\n",
    "\n",
    "from sklearn.model_selection import GridSearchCV\n",
    "grid_params = { 'n_neighbors' : [5,7,9,11,13,15],\n",
    "               'weights' : ['uniform','distance'],\n",
    "               'metric' : ['minkowski','euclidean','manhattan']}\n",
    "\n",
    "grid_model = GridSearchCV(KNeighborsClassifier(), grid_params, verbose =1, cv=3, n_jobs = -1)\n",
    "grid_Search = grid_model.fit(X_train_smote,y_train_smote)\n",
    "grid = grid_model.best_estimator_\n",
    "\n",
    "model = grid.fit(X_train_smote,y_train_smote)\n",
    "y_pred = model.predict(X_test)\n",
    "print('KNeighborsClassifier Model Accuracy : ', accuracy_score(y_pred,y_test)*100,'%')\n",
    "print(confusion_matrix(y_pred,y_test))\n",
    "print(classification_report(y_pred,y_test))\n",
    "\n",
    "#HyprProjectSummary\n",
    "ModelName = 'HyprTunning_KNeighborsClassifier_Model'\n",
    "Acc = accuracy_score(y_pred,y_test)\n",
    "pres = precision_score(y_pred,y_test)\n",
    "recal = recall_score(y_pred,y_test)\n",
    "f1score = f1_score(y_pred,y_test)\n",
    "HyprModelSummary[T] = {}\n",
    "HyprModelSummary[T]['ModelName'] = ModelName\n",
    "HyprModelSummary[T]['ModeAccuracy'] = Acc\n",
    "HyprModelSummary[T]['Precision'] = pres\n",
    "HyprModelSummary[T]['Recall'] = recal\n",
    "HyprModelSummary[T]['f1score'] = f1score\n",
    "T=T+1\n",
    "\n",
    "HyprModelSummary\n",
    "\n"
   ]
  },
  {
   "cell_type": "markdown",
   "metadata": {},
   "source": [
    "# Decision Tree Hyper Parameter Tunning "
   ]
  },
  {
   "cell_type": "markdown",
   "metadata": {},
   "source": [
    "## Decision Tree Parameters\n",
    "    1.criterion{“gini”, “entropy”}\n",
    "    2.splitter{“best”, “random”}\n",
    "    3.max_depth : int\n",
    "    4.min_samples_split : int\n",
    "    5.min_samples_leaf : int \n",
    "    6.min_weight_fraction_leaf : float\n",
    "    7.max_features : int, float or {“auto”, “sqrt”, “log2”}\n",
    "    8.random_state : int\n",
    "    9.max_leaf_nodes : int"
   ]
  },
  {
   "cell_type": "code",
   "execution_count": 64,
   "metadata": {},
   "outputs": [
    {
     "name": "stdout",
     "output_type": "stream",
     "text": [
      "    Alpha     Acc\n",
      "0       1  0.4655\n",
      "1       2  0.5410\n",
      "2       3  0.7475\n",
      "3       4  0.5890\n",
      "4       5  0.6485\n",
      "5       6  0.6990\n",
      "6       7  0.7190\n",
      "7       8  0.7355\n",
      "8       9  0.7340\n",
      "9      10  0.7030\n",
      "10     11  0.7125\n",
      "11     12  0.6900\n",
      "12     13  0.6810\n",
      "13     14  0.6915\n",
      "14     15  0.6885\n",
      "15     16  0.6780\n",
      "16     17  0.6500\n",
      "17     18  0.6715\n",
      "18     19  0.6370\n"
     ]
    },
    {
     "data": {
      "image/png": "[encoded data removed]",
      "text/plain": [
       "<Figure size 432x288 with 1 Axes>"
      ]
     },
     "metadata": {
      "needs_background": "light"
     },
     "output_type": "display_data"
    }
   ],
   "source": [
    "#Decision Tree classifiction\n",
    "alpha = []\n",
    "Acc = []\n",
    "for i in range(1,20):\n",
    "    dt = DecisionTreeClassifier(max_depth=i,criterion='entropy',splitter='random')\n",
    "    dt.fit(X_train_smote,y_train_smote)\n",
    "    y_pred = dt.predict(X_test)\n",
    "    #print('DecisionTreeClassifier Model Accuracy : ', accuracy_score(y_pred,y_test))\n",
    "    alpha.append(i)\n",
    "    Acc.append(accuracy_score(y_pred,y_test))\n",
    "\n",
    "DT = pd.DataFrame()\n",
    "DT['Alpha'] = alpha\n",
    "DT['Acc'] = Acc\n",
    "print(DT)\n",
    "sns.lineplot(x=alpha,y=Acc)\n",
    "plt.title('Decision Tree Project Accuracy : Tunning with HyperPrameterTunning')\n",
    "plt.show()"
   ]
  },
  {
   "cell_type": "code",
   "execution_count": 67,
   "metadata": {},
   "outputs": [
    {
     "name": "stdout",
     "output_type": "stream",
     "text": [
      "Fitting 3 folds for each of 50 candidates, totalling 150 fits\n",
      "KNeighborsClassifier Model Accuracy :  71.25 %\n",
      "[[1383  463]\n",
      " [ 112   42]]\n",
      "              precision    recall  f1-score   support\n",
      "\n",
      "           0       0.93      0.75      0.83      1846\n",
      "           1       0.08      0.27      0.13       154\n",
      "\n",
      "    accuracy                           0.71      2000\n",
      "   macro avg       0.50      0.51      0.48      2000\n",
      "weighted avg       0.86      0.71      0.77      2000\n",
      "\n"
     ]
    },
    {
     "data": {
      "text/plain": [
       "{0: {'ModelName': 'HyprTunning_Logistic_Regression_classification',\n",
       "  'ModeAccuracy': 0.757,\n",
       "  'Precision': 0.002053388090349076,\n",
       "  'Recall': 1.0,\n",
       "  'f1score': 0.004098360655737705},\n",
       " 1: {'ModelName': 'HyprTunning_KNeighborsClassifier_Model',\n",
       "  'ModeAccuracy': 0.5305,\n",
       "  'Precision': 0.39603960396039606,\n",
       "  'Recall': 0.23980815347721823,\n",
       "  'f1score': 0.2987303958177745},\n",
       " 2: {'ModelName': 'HyprTunning_DecisionTreeClassifier_Model',\n",
       "  'ModeAccuracy': 0.7125,\n",
       "  'Precision': 0.08316831683168317,\n",
       "  'Recall': 0.2727272727272727,\n",
       "  'f1score': 0.1274658573596358}}"
      ]
     },
     "execution_count": 67,
     "metadata": {},
     "output_type": "execute_result"
    }
   ],
   "source": [
    "# Decision Tree Using GridSearch CV\n",
    "model = DecisionTreeClassifier(random_state=42)\n",
    "\n",
    "from sklearn.model_selection import GridSearchCV\n",
    "\n",
    "parameter = {'criterion': ['gini','entropy'],\n",
    "            'max_depth' : [2,3,5,10,20],\n",
    "            'min_samples_leaf': [5, 10, 20, 50, 100],\n",
    "            }\n",
    "\n",
    "grid_model = GridSearchCV(DecisionTreeClassifier(), param_grid=parameter, verbose =1, cv=3, n_jobs = -1)\n",
    "grid_Search = grid_model.fit(X_train_smote,y_train_smote)\n",
    "grid = grid_model.best_estimator_\n",
    "\n",
    "model = grid.fit(X_train_smote,y_train_smote)\n",
    "y_pred = model.predict(X_test)\n",
    "print('KNeighborsClassifier Model Accuracy : ', accuracy_score(y_pred,y_test)*100,'%')\n",
    "print(confusion_matrix(y_pred,y_test))\n",
    "print(classification_report(y_pred,y_test))\n",
    "\n",
    "#HyprProjectSummary\n",
    "ModelName = 'HyprTunning_DecisionTreeClassifier_Model'\n",
    "Acc = accuracy_score(y_pred,y_test)\n",
    "pres = precision_score(y_pred,y_test)\n",
    "recal = recall_score(y_pred,y_test)\n",
    "f1score = f1_score(y_pred,y_test)\n",
    "HyprModelSummary[T] = {}\n",
    "HyprModelSummary[T]['ModelName'] = ModelName\n",
    "HyprModelSummary[T]['ModeAccuracy'] = Acc\n",
    "HyprModelSummary[T]['Precision'] = pres\n",
    "HyprModelSummary[T]['Recall'] = recal\n",
    "HyprModelSummary[T]['f1score'] = f1score\n",
    "T=T+1\n",
    "\n",
    "HyprModelSummary\n",
    "\n"
   ]
  },
  {
   "cell_type": "markdown",
   "metadata": {},
   "source": [
    "## Random Forest HyperParameter Tunning\n",
    "    Most important hyperparameters of Random Forest:\n",
    "\n",
    "    1.n_estimators = n of trees\n",
    "    2.max_features = max number of features considered for splitting a node\n",
    "    3.max_depth = max number of levels in each decision tree\n",
    "    4.min_samples_split = min number of data points placed in a node before the node is split\n",
    "    5.min_samples_leaf = min number of data points allowed in a leaf node\n",
    "    6.bootstrap = method for sampling data points (with or without replacement)"
   ]
  },
  {
   "cell_type": "code",
   "execution_count": 73,
   "metadata": {},
   "outputs": [
    {
     "name": "stdout",
     "output_type": "stream",
     "text": [
      "RandomForestClassifier Model Accuracy :  0.696\n"
     ]
    }
   ],
   "source": [
    "#Random Forest claddsifiction\n",
    "rnd = RandomForestClassifier(n_estimators=2)\n",
    "rnd.fit(X_train_smote,y_train_smote)\n",
    "y_pred = rnd.predict(X_test)\n",
    "print('RandomForestClassifier Model Accuracy : ', accuracy_score(y_pred,y_test))"
   ]
  },
  {
   "cell_type": "code",
   "execution_count": 74,
   "metadata": {},
   "outputs": [
    {
     "name": "stdout",
     "output_type": "stream",
     "text": [
      "Fitting 3 folds for each of 50 candidates, totalling 150 fits\n",
      "RandomForestClassifier Model Accuracy :  73.4 %\n",
      "[[1444  481]\n",
      " [  51   24]]\n",
      "              precision    recall  f1-score   support\n",
      "\n",
      "           0       0.97      0.75      0.84      1925\n",
      "           1       0.05      0.32      0.08        75\n",
      "\n",
      "    accuracy                           0.73      2000\n",
      "   macro avg       0.51      0.54      0.46      2000\n",
      "weighted avg       0.93      0.73      0.82      2000\n",
      "\n"
     ]
    },
    {
     "data": {
      "text/plain": [
       "{0: {'ModelName': 'HyprTunning_Logistic_Regression_classification',\n",
       "  'ModeAccuracy': 0.757,\n",
       "  'Precision': 0.002053388090349076,\n",
       "  'Recall': 1.0,\n",
       "  'f1score': 0.004098360655737705},\n",
       " 1: {'ModelName': 'HyprTunning_KNeighborsClassifier_Model',\n",
       "  'ModeAccuracy': 0.5305,\n",
       "  'Precision': 0.39603960396039606,\n",
       "  'Recall': 0.23980815347721823,\n",
       "  'f1score': 0.2987303958177745},\n",
       " 2: {'ModelName': 'HyprTunning_DecisionTreeClassifier_Model',\n",
       "  'ModeAccuracy': 0.7125,\n",
       "  'Precision': 0.08316831683168317,\n",
       "  'Recall': 0.2727272727272727,\n",
       "  'f1score': 0.1274658573596358},\n",
       " 3: {'ModelName': 'HyprTunning_RandomForestClassifier_Model',\n",
       "  'ModeAccuracy': 0.734,\n",
       "  'Precision': 0.047524752475247525,\n",
       "  'Recall': 0.32,\n",
       "  'f1score': 0.08275862068965519}}"
      ]
     },
     "execution_count": 74,
     "metadata": {},
     "output_type": "execute_result"
    }
   ],
   "source": [
    "from sklearn.model_selection import GridSearchCV\n",
    "param_grid = [\n",
    "{'n_estimators': [2,4,6], 'max_features': [5, 10], \n",
    " 'max_depth': [10, 50, None], 'bootstrap': [True, False]}\n",
    "]\n",
    "grid_model = GridSearchCV(RandomForestClassifier(), param_grid=parameter, verbose =1, cv=3, n_jobs = -1)\n",
    "grid_Search = grid_model.fit(X_train_smote,y_train_smote)\n",
    "grid = grid_model.best_estimator_\n",
    "\n",
    "model = grid.fit(X_train_smote,y_train_smote)\n",
    "y_pred = model.predict(X_test)\n",
    "print('RandomForestClassifier Model Accuracy : ', accuracy_score(y_pred,y_test)*100,'%')\n",
    "print(confusion_matrix(y_pred,y_test))\n",
    "print(classification_report(y_pred,y_test))\n",
    "\n",
    "#HyprProjectSummary\n",
    "ModelName = 'HyprTunning_RandomForestClassifier_Model'\n",
    "Acc = accuracy_score(y_pred,y_test)\n",
    "pres = precision_score(y_pred,y_test)\n",
    "recal = recall_score(y_pred,y_test)\n",
    "f1score = f1_score(y_pred,y_test)\n",
    "HyprModelSummary[T] = {}\n",
    "HyprModelSummary[T]['ModelName'] = ModelName\n",
    "HyprModelSummary[T]['ModeAccuracy'] = Acc\n",
    "HyprModelSummary[T]['Precision'] = pres\n",
    "HyprModelSummary[T]['Recall'] = recal\n",
    "HyprModelSummary[T]['f1score'] = f1score\n",
    "T=T+1\n",
    "\n",
    "HyprModelSummary\n"
   ]
  },
  {
   "cell_type": "markdown",
   "metadata": {},
   "source": [
    "## Gradient Boosting: HyprParameter Boosting"
   ]
  },
  {
   "cell_type": "markdown",
   "metadata": {},
   "source": [
    "# Used HyprParameter :\n",
    "    1.loss{‘deviance’, ‘exponential’}\n",
    "    2.learning_rate : float\n",
    "    3.n_estimators : int\n",
    "    4.subsample : float\n",
    "    5.criterion : {‘friedman_mse’, ‘mse’, ‘mae’}\n",
    "    6.min_samples_split : int\n",
    "    7.min_samples_leaf : int\n",
    "    8.min_weight_fraction_leaf : float\n",
    "    9.min_impurity_decrease : float"
   ]
  },
  {
   "cell_type": "code",
   "execution_count": 75,
   "metadata": {},
   "outputs": [
    {
     "name": "stdout",
     "output_type": "stream",
     "text": [
      "Fitting 3 folds for each of 150 candidates, totalling 450 fits\n",
      "GradientBoostingClassifier Model Accuracy :  70.3 %\n",
      "[[1365  464]\n",
      " [ 130   41]]\n",
      "              precision    recall  f1-score   support\n",
      "\n",
      "           0       0.91      0.75      0.82      1829\n",
      "           1       0.08      0.24      0.12       171\n",
      "\n",
      "    accuracy                           0.70      2000\n",
      "   macro avg       0.50      0.49      0.47      2000\n",
      "weighted avg       0.84      0.70      0.76      2000\n",
      "\n"
     ]
    },
    {
     "data": {
      "text/plain": [
       "{0: {'ModelName': 'HyprTunning_Logistic_Regression_classification',\n",
       "  'ModeAccuracy': 0.757,\n",
       "  'Precision': 0.002053388090349076,\n",
       "  'Recall': 1.0,\n",
       "  'f1score': 0.004098360655737705},\n",
       " 1: {'ModelName': 'HyprTunning_KNeighborsClassifier_Model',\n",
       "  'ModeAccuracy': 0.5305,\n",
       "  'Precision': 0.39603960396039606,\n",
       "  'Recall': 0.23980815347721823,\n",
       "  'f1score': 0.2987303958177745},\n",
       " 2: {'ModelName': 'HyprTunning_DecisionTreeClassifier_Model',\n",
       "  'ModeAccuracy': 0.7125,\n",
       "  'Precision': 0.08316831683168317,\n",
       "  'Recall': 0.2727272727272727,\n",
       "  'f1score': 0.1274658573596358},\n",
       " 3: {'ModelName': 'HyprTunning_RandomForestClassifier_Model',\n",
       "  'ModeAccuracy': 0.734,\n",
       "  'Precision': 0.047524752475247525,\n",
       "  'Recall': 0.32,\n",
       "  'f1score': 0.08275862068965519},\n",
       " 4: {'ModelName': 'HyprTunning_GradientBoostingClassifier_Model',\n",
       "  'ModeAccuracy': 0.703,\n",
       "  'Precision': 0.08118811881188119,\n",
       "  'Recall': 0.23976608187134502,\n",
       "  'f1score': 0.121301775147929}}"
      ]
     },
     "execution_count": 75,
     "metadata": {},
     "output_type": "execute_result"
    }
   ],
   "source": [
    "from sklearn.ensemble import GradientBoostingClassifier\n",
    "from sklearn.model_selection import GridSearchCV\n",
    "\n",
    "parameter = {'loss' : ['deviance','explonential'],\n",
    "            'learning_rate' : [2,4,6,8,10],\n",
    "            'n_estimators' : [10,20,30],\n",
    "            'min_impurity_decrease':[0.1,0.2,0.3,0.4,0.5]}\n",
    "\n",
    "grid_model = GridSearchCV(GradientBoostingClassifier(), param_grid=parameter, verbose =1, cv=3, n_jobs = -1)\n",
    "grid_Search = grid_model.fit(X_train_smote,y_train_smote)\n",
    "grid = grid_model.best_estimator_\n",
    "\n",
    "model = grid.fit(X_train_smote,y_train_smote)\n",
    "y_pred = model.predict(X_test)\n",
    "print('GradientBoostingClassifier Model Accuracy : ', accuracy_score(y_pred,y_test)*100,'%')\n",
    "print(confusion_matrix(y_pred,y_test))\n",
    "print(classification_report(y_pred,y_test))\n",
    "\n",
    "#HyprProjectSummary\n",
    "ModelName = 'HyprTunning_GradientBoostingClassifier_Model'\n",
    "Acc = accuracy_score(y_pred,y_test)\n",
    "pres = precision_score(y_pred,y_test)\n",
    "recal = recall_score(y_pred,y_test)\n",
    "f1score = f1_score(y_pred,y_test)\n",
    "HyprModelSummary[T] = {}\n",
    "HyprModelSummary[T]['ModelName'] = ModelName\n",
    "HyprModelSummary[T]['ModeAccuracy'] = Acc\n",
    "HyprModelSummary[T]['Precision'] = pres\n",
    "HyprModelSummary[T]['Recall'] = recal\n",
    "HyprModelSummary[T]['f1score'] = f1score\n",
    "T=T+1\n",
    "\n",
    "HyprModelSummary\n"
   ]
  },
  {
   "cell_type": "markdown",
   "metadata": {},
   "source": [
    "# AdaBoosting Parameter "
   ]
  },
  {
   "cell_type": "code",
   "execution_count": 83,
   "metadata": {},
   "outputs": [
    {
     "name": "stdout",
     "output_type": "stream",
     "text": [
      "Fitting 3 folds for each of 50 candidates, totalling 150 fits\n",
      "AdaBoostClassifier Model Accuracy :  66.8 %\n",
      "[[1229  398]\n",
      " [ 266  107]]\n",
      "              precision    recall  f1-score   support\n",
      "\n",
      "           0       0.82      0.76      0.79      1627\n",
      "           1       0.21      0.29      0.24       373\n",
      "\n",
      "    accuracy                           0.67      2000\n",
      "   macro avg       0.52      0.52      0.52      2000\n",
      "weighted avg       0.71      0.67      0.69      2000\n",
      "\n"
     ]
    },
    {
     "data": {
      "text/plain": [
       "{0: {'ModelName': 'HyprTunning_Logistic_Regression_classification',\n",
       "  'ModeAccuracy': 0.757,\n",
       "  'Precision': 0.002053388090349076,\n",
       "  'Recall': 1.0,\n",
       "  'f1score': 0.004098360655737705},\n",
       " 1: {'ModelName': 'HyprTunning_KNeighborsClassifier_Model',\n",
       "  'ModeAccuracy': 0.5305,\n",
       "  'Precision': 0.39603960396039606,\n",
       "  'Recall': 0.23980815347721823,\n",
       "  'f1score': 0.2987303958177745},\n",
       " 2: {'ModelName': 'HyprTunning_DecisionTreeClassifier_Model',\n",
       "  'ModeAccuracy': 0.7125,\n",
       "  'Precision': 0.08316831683168317,\n",
       "  'Recall': 0.2727272727272727,\n",
       "  'f1score': 0.1274658573596358},\n",
       " 3: {'ModelName': 'HyprTunning_RandomForestClassifier_Model',\n",
       "  'ModeAccuracy': 0.734,\n",
       "  'Precision': 0.047524752475247525,\n",
       "  'Recall': 0.32,\n",
       "  'f1score': 0.08275862068965519},\n",
       " 4: {'ModelName': 'HyprTunning_GradientBoostingClassifier_Model',\n",
       "  'ModeAccuracy': 0.703,\n",
       "  'Precision': 0.08118811881188119,\n",
       "  'Recall': 0.23976608187134502,\n",
       "  'f1score': 0.121301775147929},\n",
       " 5: {'ModelName': 'HyprTunning_AdaBoostClassifier_Model',\n",
       "  'ModeAccuracy': 0.668,\n",
       "  'Precision': 0.21188118811881188,\n",
       "  'Recall': 0.2868632707774799,\n",
       "  'f1score': 0.24373576309794986}}"
      ]
     },
     "execution_count": 83,
     "metadata": {},
     "output_type": "execute_result"
    }
   ],
   "source": [
    "#Ada Boosting claddsifiction Best on the Decision Tree Boosting\n",
    "from sklearn.tree import DecisionTreeClassifier\n",
    "from sklearn.ensemble import AdaBoostClassifier\n",
    "\n",
    "\n",
    "#Parameter for the Decision Tree\n",
    "parameter = {'criterion': ['gini','entropy'],\n",
    "            'max_depth' : [2,3,5,10,20],\n",
    "            'min_samples_leaf': [5, 10, 20, 50, 100],\n",
    "            }\n",
    "grid_model = GridSearchCV(DecisionTreeClassifier(), param_grid=parameter, verbose =1, cv=3, n_jobs = -1)\n",
    "grid_Search = grid_model.fit(X_train_smote,y_train_smote)\n",
    "grid = grid_model.best_estimator_\n",
    "\n",
    "#AdaBoosting With DecisionTree Classifier\n",
    "ABO = AdaBoostClassifier(n_estimators=50,base_estimator=grid,learning_rate=1, random_state=0)\n",
    "\n",
    "Adaboos = ABO.fit(X_train_smote,y_train_smote)\n",
    "y_pred = Adaboos.predict(X_test)\n",
    "print('AdaBoostClassifier Model Accuracy : ', accuracy_score(y_pred,y_test)*100,'%')\n",
    "print(confusion_matrix(y_pred,y_test))\n",
    "print(classification_report(y_pred,y_test))\n",
    "\n",
    "\n",
    "#HyprProjectSummary\n",
    "ModelName = 'HyprTunning_AdaBoostClassifier_Model'\n",
    "Acc = accuracy_score(y_pred,y_test)\n",
    "pres = precision_score(y_pred,y_test)\n",
    "recal = recall_score(y_pred,y_test)\n",
    "f1score = f1_score(y_pred,y_test)\n",
    "HyprModelSummary[T] = {}\n",
    "HyprModelSummary[T]['ModelName'] = ModelName\n",
    "HyprModelSummary[T]['ModeAccuracy'] = Acc\n",
    "HyprModelSummary[T]['Precision'] = pres\n",
    "HyprModelSummary[T]['Recall'] = recal\n",
    "HyprModelSummary[T]['f1score'] = f1score\n",
    "T=T+1\n",
    "\n",
    "HyprModelSummary\n",
    "\n"
   ]
  },
  {
   "cell_type": "code",
   "execution_count": 84,
   "metadata": {},
   "outputs": [
    {
     "data": {
      "text/plain": [
       "{0: {'ModelName': 'HyprTunning_Logistic_Regression_classification',\n",
       "  'ModeAccuracy': 0.757,\n",
       "  'Precision': 0.002053388090349076,\n",
       "  'Recall': 1.0,\n",
       "  'f1score': 0.004098360655737705},\n",
       " 1: {'ModelName': 'HyprTunning_KNeighborsClassifier_Model',\n",
       "  'ModeAccuracy': 0.5305,\n",
       "  'Precision': 0.39603960396039606,\n",
       "  'Recall': 0.23980815347721823,\n",
       "  'f1score': 0.2987303958177745},\n",
       " 2: {'ModelName': 'HyprTunning_DecisionTreeClassifier_Model',\n",
       "  'ModeAccuracy': 0.7125,\n",
       "  'Precision': 0.08316831683168317,\n",
       "  'Recall': 0.2727272727272727,\n",
       "  'f1score': 0.1274658573596358},\n",
       " 3: {'ModelName': 'HyprTunning_RandomForestClassifier_Model',\n",
       "  'ModeAccuracy': 0.734,\n",
       "  'Precision': 0.047524752475247525,\n",
       "  'Recall': 0.32,\n",
       "  'f1score': 0.08275862068965519},\n",
       " 4: {'ModelName': 'HyprTunning_GradientBoostingClassifier_Model',\n",
       "  'ModeAccuracy': 0.703,\n",
       "  'Precision': 0.08118811881188119,\n",
       "  'Recall': 0.23976608187134502,\n",
       "  'f1score': 0.121301775147929},\n",
       " 5: {'ModelName': 'HyprTunning_AdaBoostClassifier_Model',\n",
       "  'ModeAccuracy': 0.668,\n",
       "  'Precision': 0.21188118811881188,\n",
       "  'Recall': 0.2868632707774799,\n",
       "  'f1score': 0.24373576309794986}}"
      ]
     },
     "execution_count": 84,
     "metadata": {},
     "output_type": "execute_result"
    }
   ],
   "source": [
    "HyprModelSummary"
   ]
  },
  {
   "cell_type": "code",
   "execution_count": 101,
   "metadata": {},
   "outputs": [
    {
     "data": {
      "text/html": [
       "<div>\n",
       "<style scoped>\n",
       "    .dataframe tbody tr th:only-of-type {\n",
       "        vertical-align: middle;\n",
       "    }\n",
       "\n",
       "    .dataframe tbody tr th {\n",
       "        vertical-align: top;\n",
       "    }\n",
       "\n",
       "    .dataframe thead th {\n",
       "        text-align: right;\n",
       "    }\n",
       "</style>\n",
       "<table border=\"1\" class=\"dataframe\">\n",
       "  <thead>\n",
       "    <tr style=\"text-align: right;\">\n",
       "      <th></th>\n",
       "      <th>ModelName</th>\n",
       "      <th>ModeAccuracy</th>\n",
       "      <th>Precision</th>\n",
       "      <th>Recall</th>\n",
       "      <th>f1score</th>\n",
       "    </tr>\n",
       "  </thead>\n",
       "  <tbody>\n",
       "    <tr>\n",
       "      <th>0</th>\n",
       "      <td>HyprTunning_Logistic_Regression_classification</td>\n",
       "      <td>0.7570</td>\n",
       "      <td>0.002053</td>\n",
       "      <td>1.000000</td>\n",
       "      <td>0.004098</td>\n",
       "    </tr>\n",
       "    <tr>\n",
       "      <th>1</th>\n",
       "      <td>HyprTunning_KNeighborsClassifier_Model</td>\n",
       "      <td>0.5305</td>\n",
       "      <td>0.396040</td>\n",
       "      <td>0.239808</td>\n",
       "      <td>0.298730</td>\n",
       "    </tr>\n",
       "    <tr>\n",
       "      <th>2</th>\n",
       "      <td>HyprTunning_DecisionTreeClassifier_Model</td>\n",
       "      <td>0.7125</td>\n",
       "      <td>0.083168</td>\n",
       "      <td>0.272727</td>\n",
       "      <td>0.127466</td>\n",
       "    </tr>\n",
       "    <tr>\n",
       "      <th>3</th>\n",
       "      <td>HyprTunning_RandomForestClassifier_Model</td>\n",
       "      <td>0.7340</td>\n",
       "      <td>0.047525</td>\n",
       "      <td>0.320000</td>\n",
       "      <td>0.082759</td>\n",
       "    </tr>\n",
       "    <tr>\n",
       "      <th>4</th>\n",
       "      <td>HyprTunning_GradientBoostingClassifier_Model</td>\n",
       "      <td>0.7030</td>\n",
       "      <td>0.081188</td>\n",
       "      <td>0.239766</td>\n",
       "      <td>0.121302</td>\n",
       "    </tr>\n",
       "    <tr>\n",
       "      <th>5</th>\n",
       "      <td>HyprTunning_AdaBoostClassifier_Model</td>\n",
       "      <td>0.6680</td>\n",
       "      <td>0.211881</td>\n",
       "      <td>0.286863</td>\n",
       "      <td>0.243736</td>\n",
       "    </tr>\n",
       "  </tbody>\n",
       "</table>\n",
       "</div>"
      ],
      "text/plain": [
       "                                        ModelName  ModeAccuracy  Precision  \\\n",
       "0  HyprTunning_Logistic_Regression_classification        0.7570   0.002053   \n",
       "1          HyprTunning_KNeighborsClassifier_Model        0.5305   0.396040   \n",
       "2        HyprTunning_DecisionTreeClassifier_Model        0.7125   0.083168   \n",
       "3        HyprTunning_RandomForestClassifier_Model        0.7340   0.047525   \n",
       "4    HyprTunning_GradientBoostingClassifier_Model        0.7030   0.081188   \n",
       "5            HyprTunning_AdaBoostClassifier_Model        0.6680   0.211881   \n",
       "\n",
       "     Recall   f1score  \n",
       "0  1.000000  0.004098  \n",
       "1  0.239808  0.298730  \n",
       "2  0.272727  0.127466  \n",
       "3  0.320000  0.082759  \n",
       "4  0.239766  0.121302  \n",
       "5  0.286863  0.243736  "
      ]
     },
     "execution_count": 101,
     "metadata": {},
     "output_type": "execute_result"
    }
   ],
   "source": [
    "ModelName,ModeAccuracy,Precision,Recall,f1score = [],[],[],[],[]\n",
    "import json\n",
    "sorted_json_data = json.dumps(HyprModelSummary, sort_keys=True)\n",
    "finalJson = json.loads(sorted_json_data)\n",
    "finalJson\n",
    "for i in range(len(finalJson)):\n",
    "    List = finalJson[str(i)]\n",
    "    ModelName.append(List['ModelName'])\n",
    "    ModeAccuracy.append(List['ModeAccuracy'])\n",
    "    Precision.append(List['Precision'])\n",
    "    Recall.append(List['Recall'])\n",
    "    f1score.append(List['f1score'])\n",
    "df1 = pd.DataFrame()\n",
    "df1['ModelName'] = ModelName\n",
    "df1['ModeAccuracy'] = ModeAccuracy\n",
    "df1['Precision'] = Precision\n",
    "df1['Recall'] = Recall\n",
    "df1['f1score'] = f1score\n",
    "\n",
    "df1"
   ]
  },
  {
   "cell_type": "code",
   "execution_count": 103,
   "metadata": {},
   "outputs": [
    {
     "data": {
      "text/html": [
       "<div>\n",
       "<style scoped>\n",
       "    .dataframe tbody tr th:only-of-type {\n",
       "        vertical-align: middle;\n",
       "    }\n",
       "\n",
       "    .dataframe tbody tr th {\n",
       "        vertical-align: top;\n",
       "    }\n",
       "\n",
       "    .dataframe thead th {\n",
       "        text-align: right;\n",
       "    }\n",
       "</style>\n",
       "<table border=\"1\" class=\"dataframe\">\n",
       "  <thead>\n",
       "    <tr style=\"text-align: right;\">\n",
       "      <th></th>\n",
       "      <th>ModelName</th>\n",
       "      <th>ModeAccuracy</th>\n",
       "      <th>Precision</th>\n",
       "      <th>Recall</th>\n",
       "      <th>f1score</th>\n",
       "    </tr>\n",
       "  </thead>\n",
       "  <tbody>\n",
       "    <tr>\n",
       "      <th>0</th>\n",
       "      <td>HyprTunning_Logistic_Regression_classification</td>\n",
       "      <td>0.757</td>\n",
       "      <td>0.002053</td>\n",
       "      <td>1.0</td>\n",
       "      <td>0.004098</td>\n",
       "    </tr>\n",
       "  </tbody>\n",
       "</table>\n",
       "</div>"
      ],
      "text/plain": [
       "                                        ModelName  ModeAccuracy  Precision  \\\n",
       "0  HyprTunning_Logistic_Regression_classification         0.757   0.002053   \n",
       "\n",
       "   Recall   f1score  \n",
       "0     1.0  0.004098  "
      ]
     },
     "execution_count": 103,
     "metadata": {},
     "output_type": "execute_result"
    }
   ],
   "source": [
    "# Higher Accurate Base Model is : \n",
    "df1.sort_values('ModeAccuracy',ascending=False).head(1)"
   ]
  },
  {
   "cell_type": "code",
   "execution_count": 104,
   "metadata": {},
   "outputs": [
    {
     "data": {
      "image/png": "[encoded data removed]",
      "text/plain": [
       "<Figure size 504x216 with 1 Axes>"
      ]
     },
     "metadata": {
      "needs_background": "light"
     },
     "output_type": "display_data"
    }
   ],
   "source": [
    "plt.figure(figsize=(7,3))\n",
    "sns.barplot(df1['ModelName'],df1['ModeAccuracy'])\n",
    "plt.title('Base Model Summary Report')\n",
    "plt.xticks(rotation=90)\n",
    "plt.show()"
   ]
  },
  {
   "cell_type": "code",
   "execution_count": 106,
   "metadata": {},
   "outputs": [
    {
     "data": {
      "image/png": "[encoded data removed]",
      "text/plain": [
       "<Figure size 720x720 with 1 Axes>"
      ]
     },
     "metadata": {},
     "output_type": "display_data"
    }
   ],
   "source": [
    "plt.figure(figsize=(10,10))\n",
    "label = df1['ModelName'].unique()\n",
    "plt.pie(df1['ModeAccuracy'],autopct=\"%.2f%%\",labels=label,pctdistance=0.9,explode=[0.02]*6)\n",
    "plt.title('HyprTunning Model Accuracy chart based on the - \"Model Accuracy\" - (TP+TN)/(TP+FN+FP+TN)')\n",
    "plt.show()"
   ]
  },
  {
   "cell_type": "code",
   "execution_count": 107,
   "metadata": {},
   "outputs": [
    {
     "data": {
      "image/png": "[encoded data removed]",
      "text/plain": [
       "<Figure size 720x720 with 1 Axes>"
      ]
     },
     "metadata": {},
     "output_type": "display_data"
    }
   ],
   "source": [
    "plt.figure(figsize=(10,10))\n",
    "label = df['ModelName'].unique()\n",
    "plt.pie(df['ModeAccuracy'],autopct=\"%.2f%%\",labels=label,pctdistance=0.9,explode=[0.02]*6)\n",
    "plt.title('Model Accuracy chart based on the - \"Model Accuracy\" - (TP+TN)/(TP+FN+FP+TN)')\n",
    "plt.show()"
   ]
  },
  {
   "cell_type": "code",
   "execution_count": null,
   "metadata": {},
   "outputs": [],
   "source": []
  }
 ],
 "metadata": {
  "kernelspec": {
   "display_name": "Python 3",
   "language": "python",
   "name": "python3"
  },
  "language_info": {
   "codemirror_mode": {
    "name": "ipython",
    "version": 3
   },
   "file_extension": ".py",
   "mimetype": "text/x-python",
   "name": "python",
   "nbconvert_exporter": "python",
   "pygments_lexer": "ipython3",
   "version": "3.8.5"
  }
 },
 "nbformat": 4,
 "nbformat_minor": 5
}
